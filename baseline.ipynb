{
 "cells": [
  {
   "cell_type": "code",
   "execution_count": 1,
   "metadata": {},
   "outputs": [],
   "source": [
    "import itertools\n",
    "import os\n",
    "\n",
    "import matplotlib.pyplot as plt\n",
    "import pandas as pd\n",
    "import numpy as np\n",
    "from sklearn.ensemble import RandomForestClassifier\n",
    "from sklearn.linear_model import LogisticRegression\n",
    "from sklearn.model_selection import StratifiedShuffleSplit, cross_validate, GridSearchCV\n",
    "from sklearn.preprocessing import LabelEncoder, StandardScaler, OneHotEncoder\n",
    "from sklearn.metrics import plot_roc_curve, roc_auc_score\n",
    "\n",
    "pd.set_option('display.max_columns', 999)\n",
    "random_state=0\n"
   ]
  },
  {
   "cell_type": "code",
   "execution_count": 2,
   "metadata": {},
   "outputs": [
    {
     "name": "stdout",
     "output_type": "stream",
     "text": [
      "C:\\Users\\a\\PycharmProjects\\interview\\data\\bank-additional-full.csv\n"
     ]
    }
   ],
   "source": [
    "project_path = 'C:\\\\Users\\\\a\\\\PycharmProjects\\\\interview'\n",
    "data_path = os.path.join(project_path, 'data', 'bank-additional-full.csv')\n",
    "print(data_path)\n"
   ]
  },
  {
   "cell_type": "code",
   "execution_count": 3,
   "metadata": {},
   "outputs": [
    {
     "data": {
      "text/html": [
       "<div>\n",
       "<style scoped>\n",
       "    .dataframe tbody tr th:only-of-type {\n",
       "        vertical-align: middle;\n",
       "    }\n",
       "\n",
       "    .dataframe tbody tr th {\n",
       "        vertical-align: top;\n",
       "    }\n",
       "\n",
       "    .dataframe thead th {\n",
       "        text-align: right;\n",
       "    }\n",
       "</style>\n",
       "<table border=\"1\" class=\"dataframe\">\n",
       "  <thead>\n",
       "    <tr style=\"text-align: right;\">\n",
       "      <th></th>\n",
       "      <th>age</th>\n",
       "      <th>job</th>\n",
       "      <th>marital</th>\n",
       "      <th>education</th>\n",
       "      <th>default</th>\n",
       "      <th>housing</th>\n",
       "      <th>loan</th>\n",
       "      <th>contact</th>\n",
       "      <th>month</th>\n",
       "      <th>day_of_week</th>\n",
       "      <th>duration</th>\n",
       "      <th>campaign</th>\n",
       "      <th>pdays</th>\n",
       "      <th>previous</th>\n",
       "      <th>poutcome</th>\n",
       "      <th>emp.var.rate</th>\n",
       "      <th>cons.price.idx</th>\n",
       "      <th>cons.conf.idx</th>\n",
       "      <th>euribor3m</th>\n",
       "      <th>nr.employed</th>\n",
       "      <th>y</th>\n",
       "    </tr>\n",
       "  </thead>\n",
       "  <tbody>\n",
       "    <tr>\n",
       "      <th>0</th>\n",
       "      <td>56</td>\n",
       "      <td>housemaid</td>\n",
       "      <td>married</td>\n",
       "      <td>basic.4y</td>\n",
       "      <td>no</td>\n",
       "      <td>no</td>\n",
       "      <td>no</td>\n",
       "      <td>telephone</td>\n",
       "      <td>may</td>\n",
       "      <td>mon</td>\n",
       "      <td>261</td>\n",
       "      <td>1</td>\n",
       "      <td>999</td>\n",
       "      <td>0</td>\n",
       "      <td>nonexistent</td>\n",
       "      <td>1.1</td>\n",
       "      <td>93.994</td>\n",
       "      <td>-36.4</td>\n",
       "      <td>4.857</td>\n",
       "      <td>5191.0</td>\n",
       "      <td>no</td>\n",
       "    </tr>\n",
       "    <tr>\n",
       "      <th>1</th>\n",
       "      <td>57</td>\n",
       "      <td>services</td>\n",
       "      <td>married</td>\n",
       "      <td>high.school</td>\n",
       "      <td>NaN</td>\n",
       "      <td>no</td>\n",
       "      <td>no</td>\n",
       "      <td>telephone</td>\n",
       "      <td>may</td>\n",
       "      <td>mon</td>\n",
       "      <td>149</td>\n",
       "      <td>1</td>\n",
       "      <td>999</td>\n",
       "      <td>0</td>\n",
       "      <td>nonexistent</td>\n",
       "      <td>1.1</td>\n",
       "      <td>93.994</td>\n",
       "      <td>-36.4</td>\n",
       "      <td>4.857</td>\n",
       "      <td>5191.0</td>\n",
       "      <td>no</td>\n",
       "    </tr>\n",
       "    <tr>\n",
       "      <th>2</th>\n",
       "      <td>37</td>\n",
       "      <td>services</td>\n",
       "      <td>married</td>\n",
       "      <td>high.school</td>\n",
       "      <td>no</td>\n",
       "      <td>yes</td>\n",
       "      <td>no</td>\n",
       "      <td>telephone</td>\n",
       "      <td>may</td>\n",
       "      <td>mon</td>\n",
       "      <td>226</td>\n",
       "      <td>1</td>\n",
       "      <td>999</td>\n",
       "      <td>0</td>\n",
       "      <td>nonexistent</td>\n",
       "      <td>1.1</td>\n",
       "      <td>93.994</td>\n",
       "      <td>-36.4</td>\n",
       "      <td>4.857</td>\n",
       "      <td>5191.0</td>\n",
       "      <td>no</td>\n",
       "    </tr>\n",
       "    <tr>\n",
       "      <th>3</th>\n",
       "      <td>40</td>\n",
       "      <td>admin.</td>\n",
       "      <td>married</td>\n",
       "      <td>basic.6y</td>\n",
       "      <td>no</td>\n",
       "      <td>no</td>\n",
       "      <td>no</td>\n",
       "      <td>telephone</td>\n",
       "      <td>may</td>\n",
       "      <td>mon</td>\n",
       "      <td>151</td>\n",
       "      <td>1</td>\n",
       "      <td>999</td>\n",
       "      <td>0</td>\n",
       "      <td>nonexistent</td>\n",
       "      <td>1.1</td>\n",
       "      <td>93.994</td>\n",
       "      <td>-36.4</td>\n",
       "      <td>4.857</td>\n",
       "      <td>5191.0</td>\n",
       "      <td>no</td>\n",
       "    </tr>\n",
       "    <tr>\n",
       "      <th>4</th>\n",
       "      <td>56</td>\n",
       "      <td>services</td>\n",
       "      <td>married</td>\n",
       "      <td>high.school</td>\n",
       "      <td>no</td>\n",
       "      <td>no</td>\n",
       "      <td>yes</td>\n",
       "      <td>telephone</td>\n",
       "      <td>may</td>\n",
       "      <td>mon</td>\n",
       "      <td>307</td>\n",
       "      <td>1</td>\n",
       "      <td>999</td>\n",
       "      <td>0</td>\n",
       "      <td>nonexistent</td>\n",
       "      <td>1.1</td>\n",
       "      <td>93.994</td>\n",
       "      <td>-36.4</td>\n",
       "      <td>4.857</td>\n",
       "      <td>5191.0</td>\n",
       "      <td>no</td>\n",
       "    </tr>\n",
       "  </tbody>\n",
       "</table>\n",
       "</div>"
      ],
      "text/plain": [
       "   age        job  marital    education default housing loan    contact month  \\\n",
       "0   56  housemaid  married     basic.4y      no      no   no  telephone   may   \n",
       "1   57   services  married  high.school     NaN      no   no  telephone   may   \n",
       "2   37   services  married  high.school      no     yes   no  telephone   may   \n",
       "3   40     admin.  married     basic.6y      no      no   no  telephone   may   \n",
       "4   56   services  married  high.school      no      no  yes  telephone   may   \n",
       "\n",
       "  day_of_week  duration  campaign  pdays  previous     poutcome  emp.var.rate  \\\n",
       "0         mon       261         1    999         0  nonexistent           1.1   \n",
       "1         mon       149         1    999         0  nonexistent           1.1   \n",
       "2         mon       226         1    999         0  nonexistent           1.1   \n",
       "3         mon       151         1    999         0  nonexistent           1.1   \n",
       "4         mon       307         1    999         0  nonexistent           1.1   \n",
       "\n",
       "   cons.price.idx  cons.conf.idx  euribor3m  nr.employed   y  \n",
       "0          93.994          -36.4      4.857       5191.0  no  \n",
       "1          93.994          -36.4      4.857       5191.0  no  \n",
       "2          93.994          -36.4      4.857       5191.0  no  \n",
       "3          93.994          -36.4      4.857       5191.0  no  \n",
       "4          93.994          -36.4      4.857       5191.0  no  "
      ]
     },
     "execution_count": 3,
     "metadata": {},
     "output_type": "execute_result"
    }
   ],
   "source": [
    "df = pd.read_csv(data_path, sep=';', na_values=[\"unknown\"])\n",
    "df.head()\n"
   ]
  },
  {
   "cell_type": "code",
   "execution_count": 4,
   "metadata": {},
   "outputs": [
    {
     "data": {
      "text/plain": [
       "(41188, 21)"
      ]
     },
     "execution_count": 4,
     "metadata": {},
     "output_type": "execute_result"
    }
   ],
   "source": [
    "df.shape"
   ]
  },
  {
   "cell_type": "markdown",
   "metadata": {},
   "source": [
    "# Drop duplicate records"
   ]
  },
  {
   "cell_type": "code",
   "execution_count": 5,
   "metadata": {},
   "outputs": [
    {
     "data": {
      "text/plain": [
       "(41176, 21)"
      ]
     },
     "execution_count": 5,
     "metadata": {},
     "output_type": "execute_result"
    }
   ],
   "source": [
    "df = df.drop_duplicates(ignore_index=True)\n",
    "df.shape\n"
   ]
  },
  {
   "cell_type": "markdown",
   "metadata": {},
   "source": [
    "# Drop the duration column as mentioned in dataset"
   ]
  },
  {
   "cell_type": "code",
   "execution_count": 6,
   "metadata": {},
   "outputs": [
    {
     "data": {
      "text/plain": [
       "(41176, 20)"
      ]
     },
     "execution_count": 6,
     "metadata": {},
     "output_type": "execute_result"
    }
   ],
   "source": [
    "df = df.drop(\"duration\", axis=1)\n",
    "df.shape\n"
   ]
  },
  {
   "cell_type": "markdown",
   "metadata": {},
   "source": [
    "# Drop correlated features "
   ]
  },
  {
   "cell_type": "code",
   "execution_count": 7,
   "metadata": {},
   "outputs": [],
   "source": [
    "df = df.drop(['euribor3m','nr.employed'],axis=1)"
   ]
  },
  {
   "cell_type": "code",
   "execution_count": 8,
   "metadata": {},
   "outputs": [
    {
     "data": {
      "text/html": [
       "<style  type=\"text/css\" >\n",
       "    #T_dc902bba_d80b_11ea_b1f4_9cb6d021cf40row0_col0 {\n",
       "            background-color:  #023858;\n",
       "            color:  #f1f1f1;\n",
       "        }    #T_dc902bba_d80b_11ea_b1f4_9cb6d021cf40row0_col1 {\n",
       "            background-color:  #f4edf6;\n",
       "            color:  #000000;\n",
       "        }    #T_dc902bba_d80b_11ea_b1f4_9cb6d021cf40row0_col2 {\n",
       "            background-color:  #afc1dd;\n",
       "            color:  #000000;\n",
       "        }    #T_dc902bba_d80b_11ea_b1f4_9cb6d021cf40row0_col3 {\n",
       "            background-color:  #a2bcda;\n",
       "            color:  #000000;\n",
       "        }    #T_dc902bba_d80b_11ea_b1f4_9cb6d021cf40row0_col4 {\n",
       "            background-color:  #c1cae2;\n",
       "            color:  #000000;\n",
       "        }    #T_dc902bba_d80b_11ea_b1f4_9cb6d021cf40row0_col5 {\n",
       "            background-color:  #e2dfee;\n",
       "            color:  #000000;\n",
       "        }    #T_dc902bba_d80b_11ea_b1f4_9cb6d021cf40row0_col6 {\n",
       "            background-color:  #dbdaeb;\n",
       "            color:  #000000;\n",
       "        }    #T_dc902bba_d80b_11ea_b1f4_9cb6d021cf40row1_col0 {\n",
       "            background-color:  #faf2f8;\n",
       "            color:  #000000;\n",
       "        }    #T_dc902bba_d80b_11ea_b1f4_9cb6d021cf40row1_col1 {\n",
       "            background-color:  #023858;\n",
       "            color:  #f1f1f1;\n",
       "        }    #T_dc902bba_d80b_11ea_b1f4_9cb6d021cf40row1_col2 {\n",
       "            background-color:  #9ab8d8;\n",
       "            color:  #000000;\n",
       "        }    #T_dc902bba_d80b_11ea_b1f4_9cb6d021cf40row1_col3 {\n",
       "            background-color:  #b9c6e0;\n",
       "            color:  #000000;\n",
       "        }    #T_dc902bba_d80b_11ea_b1f4_9cb6d021cf40row1_col4 {\n",
       "            background-color:  #9cb9d9;\n",
       "            color:  #000000;\n",
       "        }    #T_dc902bba_d80b_11ea_b1f4_9cb6d021cf40row1_col5 {\n",
       "            background-color:  #c8cde4;\n",
       "            color:  #000000;\n",
       "        }    #T_dc902bba_d80b_11ea_b1f4_9cb6d021cf40row1_col6 {\n",
       "            background-color:  #f4eef6;\n",
       "            color:  #000000;\n",
       "        }    #T_dc902bba_d80b_11ea_b1f4_9cb6d021cf40row2_col0 {\n",
       "            background-color:  #fff7fb;\n",
       "            color:  #000000;\n",
       "        }    #T_dc902bba_d80b_11ea_b1f4_9cb6d021cf40row2_col1 {\n",
       "            background-color:  #ede7f2;\n",
       "            color:  #000000;\n",
       "        }    #T_dc902bba_d80b_11ea_b1f4_9cb6d021cf40row2_col2 {\n",
       "            background-color:  #023858;\n",
       "            color:  #f1f1f1;\n",
       "        }    #T_dc902bba_d80b_11ea_b1f4_9cb6d021cf40row2_col3 {\n",
       "            background-color:  #fff7fb;\n",
       "            color:  #000000;\n",
       "        }    #T_dc902bba_d80b_11ea_b1f4_9cb6d021cf40row2_col4 {\n",
       "            background-color:  #79abd0;\n",
       "            color:  #000000;\n",
       "        }    #T_dc902bba_d80b_11ea_b1f4_9cb6d021cf40row2_col5 {\n",
       "            background-color:  #d3d4e7;\n",
       "            color:  #000000;\n",
       "        }    #T_dc902bba_d80b_11ea_b1f4_9cb6d021cf40row2_col6 {\n",
       "            background-color:  #fff7fb;\n",
       "            color:  #000000;\n",
       "        }    #T_dc902bba_d80b_11ea_b1f4_9cb6d021cf40row3_col0 {\n",
       "            background-color:  #f7f0f7;\n",
       "            color:  #000000;\n",
       "        }    #T_dc902bba_d80b_11ea_b1f4_9cb6d021cf40row3_col1 {\n",
       "            background-color:  #fff7fb;\n",
       "            color:  #000000;\n",
       "        }    #T_dc902bba_d80b_11ea_b1f4_9cb6d021cf40row3_col2 {\n",
       "            background-color:  #fff7fb;\n",
       "            color:  #000000;\n",
       "        }    #T_dc902bba_d80b_11ea_b1f4_9cb6d021cf40row3_col3 {\n",
       "            background-color:  #023858;\n",
       "            color:  #f1f1f1;\n",
       "        }    #T_dc902bba_d80b_11ea_b1f4_9cb6d021cf40row3_col4 {\n",
       "            background-color:  #fff7fb;\n",
       "            color:  #000000;\n",
       "        }    #T_dc902bba_d80b_11ea_b1f4_9cb6d021cf40row3_col5 {\n",
       "            background-color:  #fff7fb;\n",
       "            color:  #000000;\n",
       "        }    #T_dc902bba_d80b_11ea_b1f4_9cb6d021cf40row3_col6 {\n",
       "            background-color:  #faf2f8;\n",
       "            color:  #000000;\n",
       "        }    #T_dc902bba_d80b_11ea_b1f4_9cb6d021cf40row4_col0 {\n",
       "            background-color:  #faf3f9;\n",
       "            color:  #000000;\n",
       "        }    #T_dc902bba_d80b_11ea_b1f4_9cb6d021cf40row4_col1 {\n",
       "            background-color:  #d9d8ea;\n",
       "            color:  #000000;\n",
       "        }    #T_dc902bba_d80b_11ea_b1f4_9cb6d021cf40row4_col2 {\n",
       "            background-color:  #60a1ca;\n",
       "            color:  #000000;\n",
       "        }    #T_dc902bba_d80b_11ea_b1f4_9cb6d021cf40row4_col3 {\n",
       "            background-color:  #f0eaf4;\n",
       "            color:  #000000;\n",
       "        }    #T_dc902bba_d80b_11ea_b1f4_9cb6d021cf40row4_col4 {\n",
       "            background-color:  #023858;\n",
       "            color:  #f1f1f1;\n",
       "        }    #T_dc902bba_d80b_11ea_b1f4_9cb6d021cf40row4_col5 {\n",
       "            background-color:  #04649e;\n",
       "            color:  #f1f1f1;\n",
       "        }    #T_dc902bba_d80b_11ea_b1f4_9cb6d021cf40row4_col6 {\n",
       "            background-color:  #cccfe5;\n",
       "            color:  #000000;\n",
       "        }    #T_dc902bba_d80b_11ea_b1f4_9cb6d021cf40row5_col0 {\n",
       "            background-color:  #faf3f9;\n",
       "            color:  #000000;\n",
       "        }    #T_dc902bba_d80b_11ea_b1f4_9cb6d021cf40row5_col1 {\n",
       "            background-color:  #dddbec;\n",
       "            color:  #000000;\n",
       "        }    #T_dc902bba_d80b_11ea_b1f4_9cb6d021cf40row5_col2 {\n",
       "            background-color:  #94b6d7;\n",
       "            color:  #000000;\n",
       "        }    #T_dc902bba_d80b_11ea_b1f4_9cb6d021cf40row5_col3 {\n",
       "            background-color:  #d2d3e7;\n",
       "            color:  #000000;\n",
       "        }    #T_dc902bba_d80b_11ea_b1f4_9cb6d021cf40row5_col4 {\n",
       "            background-color:  #046096;\n",
       "            color:  #f1f1f1;\n",
       "        }    #T_dc902bba_d80b_11ea_b1f4_9cb6d021cf40row5_col5 {\n",
       "            background-color:  #023858;\n",
       "            color:  #f1f1f1;\n",
       "        }    #T_dc902bba_d80b_11ea_b1f4_9cb6d021cf40row5_col6 {\n",
       "            background-color:  #e9e5f1;\n",
       "            color:  #000000;\n",
       "        }    #T_dc902bba_d80b_11ea_b1f4_9cb6d021cf40row6_col0 {\n",
       "            background-color:  #e5e1ef;\n",
       "            color:  #000000;\n",
       "        }    #T_dc902bba_d80b_11ea_b1f4_9cb6d021cf40row6_col1 {\n",
       "            background-color:  #f6eff7;\n",
       "            color:  #000000;\n",
       "        }    #T_dc902bba_d80b_11ea_b1f4_9cb6d021cf40row6_col2 {\n",
       "            background-color:  #bbc7e0;\n",
       "            color:  #000000;\n",
       "        }    #T_dc902bba_d80b_11ea_b1f4_9cb6d021cf40row6_col3 {\n",
       "            background-color:  #b3c3de;\n",
       "            color:  #000000;\n",
       "        }    #T_dc902bba_d80b_11ea_b1f4_9cb6d021cf40row6_col4 {\n",
       "            background-color:  #8eb3d5;\n",
       "            color:  #000000;\n",
       "        }    #T_dc902bba_d80b_11ea_b1f4_9cb6d021cf40row6_col5 {\n",
       "            background-color:  #d8d7e9;\n",
       "            color:  #000000;\n",
       "        }    #T_dc902bba_d80b_11ea_b1f4_9cb6d021cf40row6_col6 {\n",
       "            background-color:  #023858;\n",
       "            color:  #f1f1f1;\n",
       "        }</style><table id=\"T_dc902bba_d80b_11ea_b1f4_9cb6d021cf40\" ><thead>    <tr>        <th class=\"blank level0\" ></th>        <th class=\"col_heading level0 col0\" >age</th>        <th class=\"col_heading level0 col1\" >campaign</th>        <th class=\"col_heading level0 col2\" >pdays</th>        <th class=\"col_heading level0 col3\" >previous</th>        <th class=\"col_heading level0 col4\" >emp.var.rate</th>        <th class=\"col_heading level0 col5\" >cons.price.idx</th>        <th class=\"col_heading level0 col6\" >cons.conf.idx</th>    </tr></thead><tbody>\n",
       "                <tr>\n",
       "                        <th id=\"T_dc902bba_d80b_11ea_b1f4_9cb6d021cf40level0_row0\" class=\"row_heading level0 row0\" >age</th>\n",
       "                        <td id=\"T_dc902bba_d80b_11ea_b1f4_9cb6d021cf40row0_col0\" class=\"data row0 col0\" >1.000000</td>\n",
       "                        <td id=\"T_dc902bba_d80b_11ea_b1f4_9cb6d021cf40row0_col1\" class=\"data row0 col1\" >0.004622</td>\n",
       "                        <td id=\"T_dc902bba_d80b_11ea_b1f4_9cb6d021cf40row0_col2\" class=\"data row0 col2\" >-0.034381</td>\n",
       "                        <td id=\"T_dc902bba_d80b_11ea_b1f4_9cb6d021cf40row0_col3\" class=\"data row0 col3\" >0.024379</td>\n",
       "                        <td id=\"T_dc902bba_d80b_11ea_b1f4_9cb6d021cf40row0_col4\" class=\"data row0 col4\" >-0.000242</td>\n",
       "                        <td id=\"T_dc902bba_d80b_11ea_b1f4_9cb6d021cf40row0_col5\" class=\"data row0 col5\" >0.001009</td>\n",
       "                        <td id=\"T_dc902bba_d80b_11ea_b1f4_9cb6d021cf40row0_col6\" class=\"data row0 col6\" >0.129075</td>\n",
       "            </tr>\n",
       "            <tr>\n",
       "                        <th id=\"T_dc902bba_d80b_11ea_b1f4_9cb6d021cf40level0_row1\" class=\"row_heading level0 row1\" >campaign</th>\n",
       "                        <td id=\"T_dc902bba_d80b_11ea_b1f4_9cb6d021cf40row1_col0\" class=\"data row1 col0\" >0.004622</td>\n",
       "                        <td id=\"T_dc902bba_d80b_11ea_b1f4_9cb6d021cf40row1_col1\" class=\"data row1 col1\" >1.000000</td>\n",
       "                        <td id=\"T_dc902bba_d80b_11ea_b1f4_9cb6d021cf40row1_col2\" class=\"data row1 col2\" >0.052606</td>\n",
       "                        <td id=\"T_dc902bba_d80b_11ea_b1f4_9cb6d021cf40row1_col3\" class=\"data row1 col3\" >-0.079182</td>\n",
       "                        <td id=\"T_dc902bba_d80b_11ea_b1f4_9cb6d021cf40row1_col4\" class=\"data row1 col4\" >0.150786</td>\n",
       "                        <td id=\"T_dc902bba_d80b_11ea_b1f4_9cb6d021cf40row1_col5\" class=\"data row1 col5\" >0.127826</td>\n",
       "                        <td id=\"T_dc902bba_d80b_11ea_b1f4_9cb6d021cf40row1_col6\" class=\"data row1 col6\" >-0.013657</td>\n",
       "            </tr>\n",
       "            <tr>\n",
       "                        <th id=\"T_dc902bba_d80b_11ea_b1f4_9cb6d021cf40level0_row2\" class=\"row_heading level0 row2\" >pdays</th>\n",
       "                        <td id=\"T_dc902bba_d80b_11ea_b1f4_9cb6d021cf40row2_col0\" class=\"data row2 col0\" >-0.034381</td>\n",
       "                        <td id=\"T_dc902bba_d80b_11ea_b1f4_9cb6d021cf40row2_col1\" class=\"data row2 col1\" >0.052606</td>\n",
       "                        <td id=\"T_dc902bba_d80b_11ea_b1f4_9cb6d021cf40row2_col2\" class=\"data row2 col2\" >1.000000</td>\n",
       "                        <td id=\"T_dc902bba_d80b_11ea_b1f4_9cb6d021cf40row2_col3\" class=\"data row2 col3\" >-0.587508</td>\n",
       "                        <td id=\"T_dc902bba_d80b_11ea_b1f4_9cb6d021cf40row2_col4\" class=\"data row2 col4\" >0.271063</td>\n",
       "                        <td id=\"T_dc902bba_d80b_11ea_b1f4_9cb6d021cf40row2_col5\" class=\"data row2 col5\" >0.078920</td>\n",
       "                        <td id=\"T_dc902bba_d80b_11ea_b1f4_9cb6d021cf40row2_col6\" class=\"data row2 col6\" >-0.091374</td>\n",
       "            </tr>\n",
       "            <tr>\n",
       "                        <th id=\"T_dc902bba_d80b_11ea_b1f4_9cb6d021cf40level0_row3\" class=\"row_heading level0 row3\" >previous</th>\n",
       "                        <td id=\"T_dc902bba_d80b_11ea_b1f4_9cb6d021cf40row3_col0\" class=\"data row3 col0\" >0.024379</td>\n",
       "                        <td id=\"T_dc902bba_d80b_11ea_b1f4_9cb6d021cf40row3_col1\" class=\"data row3 col1\" >-0.079182</td>\n",
       "                        <td id=\"T_dc902bba_d80b_11ea_b1f4_9cb6d021cf40row3_col2\" class=\"data row3 col2\" >-0.587508</td>\n",
       "                        <td id=\"T_dc902bba_d80b_11ea_b1f4_9cb6d021cf40row3_col3\" class=\"data row3 col3\" >1.000000</td>\n",
       "                        <td id=\"T_dc902bba_d80b_11ea_b1f4_9cb6d021cf40row3_col4\" class=\"data row3 col4\" >-0.420587</td>\n",
       "                        <td id=\"T_dc902bba_d80b_11ea_b1f4_9cb6d021cf40row3_col5\" class=\"data row3 col5\" >-0.203197</td>\n",
       "                        <td id=\"T_dc902bba_d80b_11ea_b1f4_9cb6d021cf40row3_col6\" class=\"data row3 col6\" >-0.050929</td>\n",
       "            </tr>\n",
       "            <tr>\n",
       "                        <th id=\"T_dc902bba_d80b_11ea_b1f4_9cb6d021cf40level0_row4\" class=\"row_heading level0 row4\" >emp.var.rate</th>\n",
       "                        <td id=\"T_dc902bba_d80b_11ea_b1f4_9cb6d021cf40row4_col0\" class=\"data row4 col0\" >-0.000242</td>\n",
       "                        <td id=\"T_dc902bba_d80b_11ea_b1f4_9cb6d021cf40row4_col1\" class=\"data row4 col1\" >0.150786</td>\n",
       "                        <td id=\"T_dc902bba_d80b_11ea_b1f4_9cb6d021cf40row4_col2\" class=\"data row4 col2\" >0.271063</td>\n",
       "                        <td id=\"T_dc902bba_d80b_11ea_b1f4_9cb6d021cf40row4_col3\" class=\"data row4 col3\" >-0.420587</td>\n",
       "                        <td id=\"T_dc902bba_d80b_11ea_b1f4_9cb6d021cf40row4_col4\" class=\"data row4 col4\" >1.000000</td>\n",
       "                        <td id=\"T_dc902bba_d80b_11ea_b1f4_9cb6d021cf40row4_col5\" class=\"data row4 col5\" >0.775293</td>\n",
       "                        <td id=\"T_dc902bba_d80b_11ea_b1f4_9cb6d021cf40row4_col6\" class=\"data row4 col6\" >0.196257</td>\n",
       "            </tr>\n",
       "            <tr>\n",
       "                        <th id=\"T_dc902bba_d80b_11ea_b1f4_9cb6d021cf40level0_row5\" class=\"row_heading level0 row5\" >cons.price.idx</th>\n",
       "                        <td id=\"T_dc902bba_d80b_11ea_b1f4_9cb6d021cf40row5_col0\" class=\"data row5 col0\" >0.001009</td>\n",
       "                        <td id=\"T_dc902bba_d80b_11ea_b1f4_9cb6d021cf40row5_col1\" class=\"data row5 col1\" >0.127826</td>\n",
       "                        <td id=\"T_dc902bba_d80b_11ea_b1f4_9cb6d021cf40row5_col2\" class=\"data row5 col2\" >0.078920</td>\n",
       "                        <td id=\"T_dc902bba_d80b_11ea_b1f4_9cb6d021cf40row5_col3\" class=\"data row5 col3\" >-0.203197</td>\n",
       "                        <td id=\"T_dc902bba_d80b_11ea_b1f4_9cb6d021cf40row5_col4\" class=\"data row5 col4\" >0.775293</td>\n",
       "                        <td id=\"T_dc902bba_d80b_11ea_b1f4_9cb6d021cf40row5_col5\" class=\"data row5 col5\" >1.000000</td>\n",
       "                        <td id=\"T_dc902bba_d80b_11ea_b1f4_9cb6d021cf40row5_col6\" class=\"data row5 col6\" >0.059170</td>\n",
       "            </tr>\n",
       "            <tr>\n",
       "                        <th id=\"T_dc902bba_d80b_11ea_b1f4_9cb6d021cf40level0_row6\" class=\"row_heading level0 row6\" >cons.conf.idx</th>\n",
       "                        <td id=\"T_dc902bba_d80b_11ea_b1f4_9cb6d021cf40row6_col0\" class=\"data row6 col0\" >0.129075</td>\n",
       "                        <td id=\"T_dc902bba_d80b_11ea_b1f4_9cb6d021cf40row6_col1\" class=\"data row6 col1\" >-0.013657</td>\n",
       "                        <td id=\"T_dc902bba_d80b_11ea_b1f4_9cb6d021cf40row6_col2\" class=\"data row6 col2\" >-0.091374</td>\n",
       "                        <td id=\"T_dc902bba_d80b_11ea_b1f4_9cb6d021cf40row6_col3\" class=\"data row6 col3\" >-0.050929</td>\n",
       "                        <td id=\"T_dc902bba_d80b_11ea_b1f4_9cb6d021cf40row6_col4\" class=\"data row6 col4\" >0.196257</td>\n",
       "                        <td id=\"T_dc902bba_d80b_11ea_b1f4_9cb6d021cf40row6_col5\" class=\"data row6 col5\" >0.059170</td>\n",
       "                        <td id=\"T_dc902bba_d80b_11ea_b1f4_9cb6d021cf40row6_col6\" class=\"data row6 col6\" >1.000000</td>\n",
       "            </tr>\n",
       "    </tbody></table>"
      ],
      "text/plain": [
       "<pandas.io.formats.style.Styler at 0x15200bcff60>"
      ]
     },
     "execution_count": 8,
     "metadata": {},
     "output_type": "execute_result"
    }
   ],
   "source": [
    "corr = df.corr()\n",
    "corr.style.background_gradient()"
   ]
  },
  {
   "cell_type": "markdown",
   "metadata": {},
   "source": [
    "# Split Data into Features and Labels"
   ]
  },
  {
   "cell_type": "code",
   "execution_count": 9,
   "metadata": {},
   "outputs": [],
   "source": [
    "data = df.drop('y', axis=1)\n",
    "label = df['y']"
   ]
  },
  {
   "cell_type": "markdown",
   "metadata": {},
   "source": [
    "# Train Test Split"
   ]
  },
  {
   "cell_type": "code",
   "execution_count": 10,
   "metadata": {},
   "outputs": [],
   "source": [
    "sss = StratifiedShuffleSplit(n_splits=2, test_size=0.1, random_state=random_state)\n",
    "(train_indices, test_indices), (_, _) = sss.split(data, label)\n",
    "X_train, y_train = data.iloc[data.index[train_indices]].reset_index(drop=True), label[train_indices]\n",
    "X_test, y_test = data.iloc[data.index[test_indices]].reset_index(drop=True), label[test_indices]\n"
   ]
  },
  {
   "cell_type": "code",
   "execution_count": 11,
   "metadata": {},
   "outputs": [
    {
     "name": "stdout",
     "output_type": "stream",
     "text": [
      "training data  size (37058, 17)\n",
      "testing data  size (4118, 17)\n"
     ]
    }
   ],
   "source": [
    "print(f'training data  size {X_train.shape}')\n",
    "print(f'testing data  size {X_test.shape}')\n"
   ]
  },
  {
   "cell_type": "code",
   "execution_count": 12,
   "metadata": {},
   "outputs": [
    {
     "name": "stdout",
     "output_type": "stream",
     "text": [
      "classes distribution\n",
      "\ttraining: {'no': 0.8873387662582978, 'yes': 0.1126612337417022}\n",
      "\ttesting: {'no': 0.8873239436619719, 'yes': 0.11267605633802817}\n"
     ]
    }
   ],
   "source": [
    "class_weight = pd.DataFrame({'y': y_train})['y'].value_counts(normalize=True).to_dict()\n",
    "print(\"classes distribution\")\n",
    "print(f\"\\ttraining: {class_weight}\")\n",
    "print(f\"\\ttesting: {pd.DataFrame({'y': y_test})['y'].value_counts(normalize=True).to_dict()}\")\n"
   ]
  },
  {
   "cell_type": "code",
   "execution_count": 13,
   "metadata": {},
   "outputs": [
    {
     "data": {
      "text/html": [
       "<div>\n",
       "<style scoped>\n",
       "    .dataframe tbody tr th:only-of-type {\n",
       "        vertical-align: middle;\n",
       "    }\n",
       "\n",
       "    .dataframe tbody tr th {\n",
       "        vertical-align: top;\n",
       "    }\n",
       "\n",
       "    .dataframe thead th {\n",
       "        text-align: right;\n",
       "    }\n",
       "</style>\n",
       "<table border=\"1\" class=\"dataframe\">\n",
       "  <thead>\n",
       "    <tr style=\"text-align: right;\">\n",
       "      <th></th>\n",
       "      <th>age</th>\n",
       "      <th>job</th>\n",
       "      <th>marital</th>\n",
       "      <th>education</th>\n",
       "      <th>default</th>\n",
       "      <th>housing</th>\n",
       "      <th>loan</th>\n",
       "      <th>contact</th>\n",
       "      <th>month</th>\n",
       "      <th>day_of_week</th>\n",
       "      <th>campaign</th>\n",
       "      <th>pdays</th>\n",
       "      <th>previous</th>\n",
       "      <th>poutcome</th>\n",
       "      <th>emp.var.rate</th>\n",
       "      <th>cons.price.idx</th>\n",
       "      <th>cons.conf.idx</th>\n",
       "    </tr>\n",
       "  </thead>\n",
       "  <tbody>\n",
       "    <tr>\n",
       "      <th>0</th>\n",
       "      <td>24</td>\n",
       "      <td>admin.</td>\n",
       "      <td>single</td>\n",
       "      <td>professional.course</td>\n",
       "      <td>no</td>\n",
       "      <td>yes</td>\n",
       "      <td>yes</td>\n",
       "      <td>telephone</td>\n",
       "      <td>jun</td>\n",
       "      <td>mon</td>\n",
       "      <td>1</td>\n",
       "      <td>999</td>\n",
       "      <td>0</td>\n",
       "      <td>nonexistent</td>\n",
       "      <td>1.4</td>\n",
       "      <td>94.465</td>\n",
       "      <td>-41.8</td>\n",
       "    </tr>\n",
       "    <tr>\n",
       "      <th>1</th>\n",
       "      <td>32</td>\n",
       "      <td>technician</td>\n",
       "      <td>single</td>\n",
       "      <td>professional.course</td>\n",
       "      <td>no</td>\n",
       "      <td>yes</td>\n",
       "      <td>no</td>\n",
       "      <td>cellular</td>\n",
       "      <td>jul</td>\n",
       "      <td>thu</td>\n",
       "      <td>1</td>\n",
       "      <td>999</td>\n",
       "      <td>0</td>\n",
       "      <td>nonexistent</td>\n",
       "      <td>1.4</td>\n",
       "      <td>93.918</td>\n",
       "      <td>-42.7</td>\n",
       "    </tr>\n",
       "    <tr>\n",
       "      <th>2</th>\n",
       "      <td>36</td>\n",
       "      <td>admin.</td>\n",
       "      <td>married</td>\n",
       "      <td>university.degree</td>\n",
       "      <td>no</td>\n",
       "      <td>yes</td>\n",
       "      <td>no</td>\n",
       "      <td>cellular</td>\n",
       "      <td>aug</td>\n",
       "      <td>thu</td>\n",
       "      <td>5</td>\n",
       "      <td>999</td>\n",
       "      <td>0</td>\n",
       "      <td>nonexistent</td>\n",
       "      <td>1.4</td>\n",
       "      <td>93.444</td>\n",
       "      <td>-36.1</td>\n",
       "    </tr>\n",
       "    <tr>\n",
       "      <th>3</th>\n",
       "      <td>57</td>\n",
       "      <td>services</td>\n",
       "      <td>divorced</td>\n",
       "      <td>high.school</td>\n",
       "      <td>NaN</td>\n",
       "      <td>no</td>\n",
       "      <td>no</td>\n",
       "      <td>cellular</td>\n",
       "      <td>aug</td>\n",
       "      <td>wed</td>\n",
       "      <td>1</td>\n",
       "      <td>999</td>\n",
       "      <td>0</td>\n",
       "      <td>nonexistent</td>\n",
       "      <td>1.4</td>\n",
       "      <td>93.444</td>\n",
       "      <td>-36.1</td>\n",
       "    </tr>\n",
       "    <tr>\n",
       "      <th>4</th>\n",
       "      <td>39</td>\n",
       "      <td>blue-collar</td>\n",
       "      <td>married</td>\n",
       "      <td>high.school</td>\n",
       "      <td>no</td>\n",
       "      <td>yes</td>\n",
       "      <td>no</td>\n",
       "      <td>cellular</td>\n",
       "      <td>jul</td>\n",
       "      <td>mon</td>\n",
       "      <td>4</td>\n",
       "      <td>999</td>\n",
       "      <td>0</td>\n",
       "      <td>nonexistent</td>\n",
       "      <td>1.4</td>\n",
       "      <td>93.918</td>\n",
       "      <td>-42.7</td>\n",
       "    </tr>\n",
       "  </tbody>\n",
       "</table>\n",
       "</div>"
      ],
      "text/plain": [
       "   age          job   marital            education default housing loan  \\\n",
       "0   24       admin.    single  professional.course      no     yes  yes   \n",
       "1   32   technician    single  professional.course      no     yes   no   \n",
       "2   36       admin.   married    university.degree      no     yes   no   \n",
       "3   57     services  divorced          high.school     NaN      no   no   \n",
       "4   39  blue-collar   married          high.school      no     yes   no   \n",
       "\n",
       "     contact month day_of_week  campaign  pdays  previous     poutcome  \\\n",
       "0  telephone   jun         mon         1    999         0  nonexistent   \n",
       "1   cellular   jul         thu         1    999         0  nonexistent   \n",
       "2   cellular   aug         thu         5    999         0  nonexistent   \n",
       "3   cellular   aug         wed         1    999         0  nonexistent   \n",
       "4   cellular   jul         mon         4    999         0  nonexistent   \n",
       "\n",
       "   emp.var.rate  cons.price.idx  cons.conf.idx  \n",
       "0           1.4          94.465          -41.8  \n",
       "1           1.4          93.918          -42.7  \n",
       "2           1.4          93.444          -36.1  \n",
       "3           1.4          93.444          -36.1  \n",
       "4           1.4          93.918          -42.7  "
      ]
     },
     "execution_count": 13,
     "metadata": {},
     "output_type": "execute_result"
    }
   ],
   "source": [
    "X_train.head()"
   ]
  },
  {
   "cell_type": "markdown",
   "metadata": {},
   "source": [
    "# Data processing"
   ]
  },
  {
   "cell_type": "markdown",
   "metadata": {},
   "source": [
    "### Replacing Outlier"
   ]
  },
  {
   "cell_type": "code",
   "execution_count": 14,
   "metadata": {},
   "outputs": [],
   "source": [
    "pdays_mapping = {999: 0}\n",
    "X_train['pdays'] = X_train['pdays'].replace(pdays_mapping)\n",
    "X_test['pdays'] = X_test['pdays'].replace(pdays_mapping)\n",
    "\n"
   ]
  },
  {
   "cell_type": "markdown",
   "metadata": {},
   "source": [
    "### Scaling the Data"
   ]
  },
  {
   "cell_type": "code",
   "execution_count": 15,
   "metadata": {},
   "outputs": [],
   "source": [
    "scaler = StandardScaler()\n",
    "\n",
    "columns_to_scale = ['age', 'campaign', 'previous','pdays','emp.var.rate', 'cons.price.idx', 'cons.conf.idx']\n",
    "\n",
    "X_train[columns_to_scale] = scaler.fit_transform(X_train[columns_to_scale])\n",
    "X_test[columns_to_scale] = scaler.transform(X_test[columns_to_scale])"
   ]
  },
  {
   "cell_type": "markdown",
   "metadata": {},
   "source": [
    "### Caterorical Features"
   ]
  },
  {
   "cell_type": "markdown",
   "metadata": {},
   "source": [
    "###### Imputing NA by Most repeating category"
   ]
  },
  {
   "cell_type": "code",
   "execution_count": 16,
   "metadata": {},
   "outputs": [
    {
     "name": "stdout",
     "output_type": "stream",
     "text": [
      "missing values after imputation in train: 0\n",
      "missing values after imputation in test: 0\n"
     ]
    }
   ],
   "source": [
    "most_repeating_value =  data.mode().to_dict()\n",
    "\n",
    "col_with_missing_values = data.columns[data.isnull().sum()>0]\n",
    "\n",
    "for col in col_with_missing_values:\n",
    "    X_train[col] = X_train[col].fillna(most_repeating_value[col][0])\n",
    "    X_test[col] = X_test[col].fillna(most_repeating_value[col][0])\n",
    "\n",
    "print(f\"missing values after imputation in train: {X_train.isnull().sum().sum()}\")\n",
    "print(f\"missing values after imputation in test: {X_test.isnull().sum().sum()}\")"
   ]
  },
  {
   "cell_type": "markdown",
   "metadata": {},
   "source": [
    "###### Ordinal Encoding"
   ]
  },
  {
   "cell_type": "code",
   "execution_count": 17,
   "metadata": {},
   "outputs": [],
   "source": [
    "ordinal_mapping_dict = {\n",
    "    \"education\": {\"unknown\": 0, \"illiterate\": 1, \"basic.4y\": 2, \"basic.6y\": 3, \"basic.9y\": 4, \"high.school\": 5,\n",
    "                  \"professional.course\": 6, \"university.degree\": 7},\n",
    "    \"contact\": {\"cellular\": 0, \"telephone\": 1, },\n",
    "    \"default\": {\"no\": 0, \"yes\": 1},\n",
    "    \"housing\": {\"no\": 0, \"yes\": 1},\n",
    "    \"loan\": {\"no\": 0, \"yes\": 1},\n",
    "}\n"
   ]
  },
  {
   "cell_type": "code",
   "execution_count": 18,
   "metadata": {},
   "outputs": [],
   "source": [
    "for col, values in ordinal_mapping_dict.items():\n",
    "    X_train[col] = X_train[col].replace(values).astype(int)\n",
    "    X_test[col] = X_test[col].replace(values).astype(int)"
   ]
  },
  {
   "cell_type": "markdown",
   "metadata": {},
   "source": [
    "###### Onehot Encoding"
   ]
  },
  {
   "cell_type": "code",
   "execution_count": 19,
   "metadata": {},
   "outputs": [],
   "source": [
    "cat_col = X_train.dtypes[X_train.dtypes=='object'].index\n",
    "\n",
    "one_hot_encoder=OneHotEncoder()\n",
    "X_train_transformed = one_hot_encoder.fit_transform(X_train[cat_col])\n",
    "column_names = list(itertools.chain(*[[f'{col}_{i}' for i in cat] for col, cat in zip(cat_col, one_hot_encoder.categories_)]))\n",
    "\n",
    "\n",
    "X_train = pd.concat([X_train, pd.DataFrame(X_train_transformed.toarray(), columns=column_names)], axis=1)\n",
    "X_test = pd.concat([X_test, pd.DataFrame(one_hot_encoder.transform(X_test[cat_col]).toarray(), columns=column_names)], axis=1)\n",
    "\n",
    "X_train = X_train.drop(cat_col, axis=1)\n",
    "X_test = X_test.drop(cat_col, axis=1)\n"
   ]
  },
  {
   "cell_type": "markdown",
   "metadata": {},
   "source": [
    "### Label Encoding"
   ]
  },
  {
   "cell_type": "code",
   "execution_count": 20,
   "metadata": {},
   "outputs": [],
   "source": [
    "label_enc = LabelEncoder()\n",
    "y_train = label_enc.fit_transform(y_train)\n",
    "y_test = label_enc.transform(y_test)\n"
   ]
  },
  {
   "cell_type": "markdown",
   "metadata": {},
   "source": [
    "# Cross Valdiation Set Generator"
   ]
  },
  {
   "cell_type": "code",
   "execution_count": 21,
   "metadata": {},
   "outputs": [],
   "source": [
    "cv_generator = StratifiedShuffleSplit(n_splits=5, test_size=0.01, random_state=random_state)"
   ]
  },
  {
   "cell_type": "markdown",
   "metadata": {},
   "source": [
    "# Plot the Area Under ROC Curve"
   ]
  },
  {
   "cell_type": "code",
   "execution_count": 22,
   "metadata": {},
   "outputs": [],
   "source": [
    "def plot_metrics(classifier, X_train=X_train, y_train=y_train, X_test=X_test, y_test=y_test):\n",
    "    fig = plt.figure(figsize=(10, 5)).gca()\n",
    "    plot_roc_curve(classifier, X_train, y_train, ax=fig, name='train')\n",
    "    plot_roc_curve(classifier, X_test, y_test, ax=fig, name='test')\n",
    "    plt.show()"
   ]
  },
  {
   "cell_type": "markdown",
   "metadata": {},
   "source": [
    "# Logistic Regresstion"
   ]
  },
  {
   "cell_type": "code",
   "execution_count": 23,
   "metadata": {},
   "outputs": [
    {
     "data": {
      "image/png": "[encoded data removed]",
      "text/plain": [
       "<Figure size 720x360 with 1 Axes>"
      ]
     },
     "metadata": {
      "needs_background": "light"
     },
     "output_type": "display_data"
    }
   ],
   "source": [
    "lr = LogisticRegression(class_weight ='balanced', max_iter=1000,random_state=random_state)\n",
    "\n",
    "lr.fit(X_train,y_train)\n",
    "\n",
    "plot_metrics(lr)\n",
    "# plt.title(f'logistic regression')\n",
    "# plt.savefig(\"logistic regresstion.jpg\", bbox_inches='tight', dpi=150)\n"
   ]
  },
  {
   "cell_type": "markdown",
   "metadata": {},
   "source": [
    "### Cross Validation - LR"
   ]
  },
  {
   "cell_type": "code",
   "execution_count": 24,
   "metadata": {},
   "outputs": [
    {
     "name": "stdout",
     "output_type": "stream",
     "text": [
      "roc_auc\n",
      "\ttrain: 0.7972304331054886\n",
      "\tval: 0.780250398031553\n",
      "\ttest: 0.7803716718884676\n"
     ]
    }
   ],
   "source": [
    "lr_cv = LogisticRegression(class_weight ='balanced', max_iter=1000, random_state=random_state)\n",
    "\n",
    "cv_generator = StratifiedShuffleSplit(n_splits=3, test_size=0.01,random_state=random_state)\n",
    "\n",
    "cv = cross_validate(lr_cv, X_train, y_train, \n",
    "                    cv=cv_generator, \n",
    "                    scoring={'roc_auc':'roc_auc'},\n",
    "                    return_train_score=True,\n",
    "                    return_estimator=True)\n",
    "\n",
    "print(\"roc_auc\")\n",
    "print(f\"\\ttrain: {np.mean(cv['train_roc_auc'])}\")\n",
    "print(f\"\\tval: {np.mean(cv['test_roc_auc'])}\")\n",
    "print(f\"\\ttest: {np.mean([roc_auc_score(y_test, es.predict_proba(X_test)[:,1]) for es in cv['estimator']])}\")\n"
   ]
  },
  {
   "cell_type": "markdown",
   "metadata": {},
   "source": [
    "### Grid Search - LR"
   ]
  },
  {
   "cell_type": "code",
   "execution_count": 25,
   "metadata": {},
   "outputs": [
    {
     "name": "stdout",
     "output_type": "stream",
     "text": [
      "Best params: {'C': 0.3, 'l1_ratio': 0}\n"
     ]
    },
    {
     "data": {
      "image/png": "[encoded data removed]",
      "text/plain": [
       "<Figure size 720x360 with 1 Axes>"
      ]
     },
     "metadata": {
      "needs_background": "light"
     },
     "output_type": "display_data"
    }
   ],
   "source": [
    "param_grid = {\n",
    "    'C': [0.3, 0.4, 0.5, 0.6, 0.7, 0.8],\n",
    "    'l1_ratio': [0, 0.5, 0.7, 1]\n",
    "}\n",
    "\n",
    "lr_cv = LogisticRegression(class_weight ='balanced', \n",
    "                           max_iter=1000, \n",
    "                           penalty='elasticnet', \n",
    "                           solver='saga',\n",
    "                           random_state=random_state)\n",
    "\n",
    "lr_search = GridSearchCV(lr_cv, \n",
    "                      param_grid, \n",
    "                      cv=cv_generator,\n",
    "                      scoring='f1')\n",
    "\n",
    "lr_search.fit(X_train, y_train)\n",
    "\n",
    "print(f\"Best params: {lr_search.best_params_}\")\n",
    "plot_metrics(lr_search)\n"
   ]
  },
  {
   "cell_type": "markdown",
   "metadata": {},
   "source": [
    "# Random Forest"
   ]
  },
  {
   "cell_type": "code",
   "execution_count": 26,
   "metadata": {},
   "outputs": [
    {
     "data": {
      "image/png": "[encoded data removed]",
      "text/plain": [
       "<Figure size 720x360 with 1 Axes>"
      ]
     },
     "metadata": {
      "needs_background": "light"
     },
     "output_type": "display_data"
    }
   ],
   "source": [
    "rfc = RandomForestClassifier(class_weight ='balanced_subsample',\n",
    "                            max_depth=5,\n",
    "                            random_state=random_state)\n",
    "\n",
    "rfc.fit(X_train,y_train)\n",
    "\n",
    "plot_metrics(rfc)\n"
   ]
  },
  {
   "cell_type": "code",
   "execution_count": 27,
   "metadata": {},
   "outputs": [
    {
     "data": {
      "text/plain": [
       "<BarContainer object of 44 artists>"
      ]
     },
     "execution_count": 27,
     "metadata": {},
     "output_type": "execute_result"
    },
    {
     "data": {
      "image/png": "[encoded data removed]",
      "text/plain": [
       "<Figure size 1440x1080 with 1 Axes>"
      ]
     },
     "metadata": {
      "needs_background": "light"
     },
     "output_type": "display_data"
    }
   ],
   "source": [
    "plt.figure(figsize=(20,15))\n",
    "plt.barh(X_train.columns, rfc.feature_importances_)"
   ]
  },
  {
   "cell_type": "code",
   "execution_count": null,
   "metadata": {},
   "outputs": [],
   "source": []
  }
 ],
 "metadata": {
  "kernelspec": {
   "display_name": "Python 3",
   "language": "python",
   "name": "python3"
  },
  "language_info": {
   "codemirror_mode": {
    "name": "ipython",
    "version": 3
   },
   "file_extension": ".py",
   "mimetype": "text/x-python",
   "name": "python",
   "nbconvert_exporter": "python",
   "pygments_lexer": "ipython3",
   "version": "3.7.0"
  }
 },
 "nbformat": 4,
 "nbformat_minor": 4
}
