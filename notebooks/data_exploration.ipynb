{
 "cells": [
  {
   "cell_type": "code",
   "execution_count": 1,
   "metadata": {},
   "outputs": [],
   "source": [
    "import os\n",
    "\n",
    "import matplotlib.pyplot as plt\n",
    "import pandas as pd\n",
    "import seaborn as sns\n",
    "\n",
    "pd.set_option('display.max_columns', 999)\n",
    "pd.set_option('display.max_rows', 999)\n"
   ]
  },
  {
   "cell_type": "markdown",
   "metadata": {},
   "source": [
    "# reading the data"
   ]
  },
  {
   "cell_type": "code",
   "execution_count": 2,
   "metadata": {},
   "outputs": [
    {
     "name": "stdout",
     "output_type": "stream",
     "text": [
      "C:\\Users\\a\\PycharmProjects\\interview\\data\\bank-additional-full.csv\n"
     ]
    }
   ],
   "source": [
    "project_path = 'C:\\\\Users\\\\a\\\\PycharmProjects\\\\interview'\n",
    "data_path = os.path.join(project_path, 'data', 'bank-additional-full.csv')\n",
    "print(data_path)\n"
   ]
  },
  {
   "cell_type": "code",
   "execution_count": 3,
   "metadata": {},
   "outputs": [
    {
     "data": {
      "text/html": [
       "<div>\n",
       "<style scoped>\n",
       "    .dataframe tbody tr th:only-of-type {\n",
       "        vertical-align: middle;\n",
       "    }\n",
       "\n",
       "    .dataframe tbody tr th {\n",
       "        vertical-align: top;\n",
       "    }\n",
       "\n",
       "    .dataframe thead th {\n",
       "        text-align: right;\n",
       "    }\n",
       "</style>\n",
       "<table border=\"1\" class=\"dataframe\">\n",
       "  <thead>\n",
       "    <tr style=\"text-align: right;\">\n",
       "      <th></th>\n",
       "      <th>age</th>\n",
       "      <th>job</th>\n",
       "      <th>marital</th>\n",
       "      <th>education</th>\n",
       "      <th>default</th>\n",
       "      <th>housing</th>\n",
       "      <th>loan</th>\n",
       "      <th>contact</th>\n",
       "      <th>month</th>\n",
       "      <th>day_of_week</th>\n",
       "      <th>duration</th>\n",
       "      <th>campaign</th>\n",
       "      <th>pdays</th>\n",
       "      <th>previous</th>\n",
       "      <th>poutcome</th>\n",
       "      <th>emp.var.rate</th>\n",
       "      <th>cons.price.idx</th>\n",
       "      <th>cons.conf.idx</th>\n",
       "      <th>euribor3m</th>\n",
       "      <th>nr.employed</th>\n",
       "      <th>y</th>\n",
       "    </tr>\n",
       "  </thead>\n",
       "  <tbody>\n",
       "    <tr>\n",
       "      <th>0</th>\n",
       "      <td>56</td>\n",
       "      <td>housemaid</td>\n",
       "      <td>married</td>\n",
       "      <td>basic.4y</td>\n",
       "      <td>no</td>\n",
       "      <td>no</td>\n",
       "      <td>no</td>\n",
       "      <td>telephone</td>\n",
       "      <td>may</td>\n",
       "      <td>mon</td>\n",
       "      <td>261</td>\n",
       "      <td>1</td>\n",
       "      <td>999</td>\n",
       "      <td>0</td>\n",
       "      <td>nonexistent</td>\n",
       "      <td>1.1</td>\n",
       "      <td>93.994</td>\n",
       "      <td>-36.4</td>\n",
       "      <td>4.857</td>\n",
       "      <td>5191.0</td>\n",
       "      <td>no</td>\n",
       "    </tr>\n",
       "    <tr>\n",
       "      <th>1</th>\n",
       "      <td>57</td>\n",
       "      <td>services</td>\n",
       "      <td>married</td>\n",
       "      <td>high.school</td>\n",
       "      <td>unknown</td>\n",
       "      <td>no</td>\n",
       "      <td>no</td>\n",
       "      <td>telephone</td>\n",
       "      <td>may</td>\n",
       "      <td>mon</td>\n",
       "      <td>149</td>\n",
       "      <td>1</td>\n",
       "      <td>999</td>\n",
       "      <td>0</td>\n",
       "      <td>nonexistent</td>\n",
       "      <td>1.1</td>\n",
       "      <td>93.994</td>\n",
       "      <td>-36.4</td>\n",
       "      <td>4.857</td>\n",
       "      <td>5191.0</td>\n",
       "      <td>no</td>\n",
       "    </tr>\n",
       "    <tr>\n",
       "      <th>2</th>\n",
       "      <td>37</td>\n",
       "      <td>services</td>\n",
       "      <td>married</td>\n",
       "      <td>high.school</td>\n",
       "      <td>no</td>\n",
       "      <td>yes</td>\n",
       "      <td>no</td>\n",
       "      <td>telephone</td>\n",
       "      <td>may</td>\n",
       "      <td>mon</td>\n",
       "      <td>226</td>\n",
       "      <td>1</td>\n",
       "      <td>999</td>\n",
       "      <td>0</td>\n",
       "      <td>nonexistent</td>\n",
       "      <td>1.1</td>\n",
       "      <td>93.994</td>\n",
       "      <td>-36.4</td>\n",
       "      <td>4.857</td>\n",
       "      <td>5191.0</td>\n",
       "      <td>no</td>\n",
       "    </tr>\n",
       "    <tr>\n",
       "      <th>3</th>\n",
       "      <td>40</td>\n",
       "      <td>admin.</td>\n",
       "      <td>married</td>\n",
       "      <td>basic.6y</td>\n",
       "      <td>no</td>\n",
       "      <td>no</td>\n",
       "      <td>no</td>\n",
       "      <td>telephone</td>\n",
       "      <td>may</td>\n",
       "      <td>mon</td>\n",
       "      <td>151</td>\n",
       "      <td>1</td>\n",
       "      <td>999</td>\n",
       "      <td>0</td>\n",
       "      <td>nonexistent</td>\n",
       "      <td>1.1</td>\n",
       "      <td>93.994</td>\n",
       "      <td>-36.4</td>\n",
       "      <td>4.857</td>\n",
       "      <td>5191.0</td>\n",
       "      <td>no</td>\n",
       "    </tr>\n",
       "    <tr>\n",
       "      <th>4</th>\n",
       "      <td>56</td>\n",
       "      <td>services</td>\n",
       "      <td>married</td>\n",
       "      <td>high.school</td>\n",
       "      <td>no</td>\n",
       "      <td>no</td>\n",
       "      <td>yes</td>\n",
       "      <td>telephone</td>\n",
       "      <td>may</td>\n",
       "      <td>mon</td>\n",
       "      <td>307</td>\n",
       "      <td>1</td>\n",
       "      <td>999</td>\n",
       "      <td>0</td>\n",
       "      <td>nonexistent</td>\n",
       "      <td>1.1</td>\n",
       "      <td>93.994</td>\n",
       "      <td>-36.4</td>\n",
       "      <td>4.857</td>\n",
       "      <td>5191.0</td>\n",
       "      <td>no</td>\n",
       "    </tr>\n",
       "  </tbody>\n",
       "</table>\n",
       "</div>"
      ],
      "text/plain": [
       "   age        job  marital    education  default housing loan    contact  \\\n",
       "0   56  housemaid  married     basic.4y       no      no   no  telephone   \n",
       "1   57   services  married  high.school  unknown      no   no  telephone   \n",
       "2   37   services  married  high.school       no     yes   no  telephone   \n",
       "3   40     admin.  married     basic.6y       no      no   no  telephone   \n",
       "4   56   services  married  high.school       no      no  yes  telephone   \n",
       "\n",
       "  month day_of_week  duration  campaign  pdays  previous     poutcome  \\\n",
       "0   may         mon       261         1    999         0  nonexistent   \n",
       "1   may         mon       149         1    999         0  nonexistent   \n",
       "2   may         mon       226         1    999         0  nonexistent   \n",
       "3   may         mon       151         1    999         0  nonexistent   \n",
       "4   may         mon       307         1    999         0  nonexistent   \n",
       "\n",
       "   emp.var.rate  cons.price.idx  cons.conf.idx  euribor3m  nr.employed   y  \n",
       "0           1.1          93.994          -36.4      4.857       5191.0  no  \n",
       "1           1.1          93.994          -36.4      4.857       5191.0  no  \n",
       "2           1.1          93.994          -36.4      4.857       5191.0  no  \n",
       "3           1.1          93.994          -36.4      4.857       5191.0  no  \n",
       "4           1.1          93.994          -36.4      4.857       5191.0  no  "
      ]
     },
     "execution_count": 3,
     "metadata": {},
     "output_type": "execute_result"
    }
   ],
   "source": [
    "df = pd.read_csv(data_path, sep=';')\n",
    "df.head()\n"
   ]
  },
  {
   "cell_type": "code",
   "execution_count": 4,
   "metadata": {},
   "outputs": [],
   "source": [
    "data = df.drop('y', axis=1)\n",
    "label = df['y']\n"
   ]
  },
  {
   "cell_type": "code",
   "execution_count": 5,
   "metadata": {},
   "outputs": [
    {
     "data": {
      "text/plain": [
       "(41188, 20)"
      ]
     },
     "execution_count": 5,
     "metadata": {},
     "output_type": "execute_result"
    }
   ],
   "source": [
    "data.shape\n"
   ]
  },
  {
   "cell_type": "markdown",
   "metadata": {},
   "source": [
    "# understanding the problem type"
   ]
  },
  {
   "cell_type": "code",
   "execution_count": 6,
   "metadata": {},
   "outputs": [
    {
     "data": {
      "text/plain": [
       "<AxesSubplot:>"
      ]
     },
     "execution_count": 6,
     "metadata": {},
     "output_type": "execute_result"
    },
    {
     "data": {
      "image/png": "[encoded data removed]",
      "text/plain": [
       "<Figure size 432x288 with 1 Axes>"
      ]
     },
     "metadata": {
      "needs_background": "light"
     },
     "output_type": "display_data"
    }
   ],
   "source": [
    "label.value_counts(normalize=True).plot.bar()\n"
   ]
  },
  {
   "cell_type": "markdown",
   "metadata": {},
   "source": [
    "This is an unbalanced class clasification."
   ]
  },
  {
   "cell_type": "markdown",
   "metadata": {},
   "source": [
    "# Understanding the Data"
   ]
  },
  {
   "cell_type": "markdown",
   "metadata": {},
   "source": [
    "### Check for Duplicate Records"
   ]
  },
  {
   "cell_type": "code",
   "execution_count": 7,
   "metadata": {},
   "outputs": [
    {
     "data": {
      "text/plain": [
       "(41176, 21)"
      ]
     },
     "execution_count": 7,
     "metadata": {},
     "output_type": "execute_result"
    }
   ],
   "source": [
    "df = df.drop_duplicates(ignore_index=True)\n",
    "df.shape\n"
   ]
  },
  {
   "cell_type": "markdown",
   "metadata": {},
   "source": [
    "12 records  found duplicate"
   ]
  },
  {
   "cell_type": "markdown",
   "metadata": {},
   "source": [
    "### understanding catagorical variables"
   ]
  },
  {
   "cell_type": "code",
   "execution_count": 8,
   "metadata": {},
   "outputs": [
    {
     "data": {
      "text/html": [
       "<div>\n",
       "<style scoped>\n",
       "    .dataframe tbody tr th:only-of-type {\n",
       "        vertical-align: middle;\n",
       "    }\n",
       "\n",
       "    .dataframe tbody tr th {\n",
       "        vertical-align: top;\n",
       "    }\n",
       "\n",
       "    .dataframe thead th {\n",
       "        text-align: right;\n",
       "    }\n",
       "</style>\n",
       "<table border=\"1\" class=\"dataframe\">\n",
       "  <thead>\n",
       "    <tr style=\"text-align: right;\">\n",
       "      <th></th>\n",
       "      <th></th>\n",
       "      <th>counts</th>\n",
       "    </tr>\n",
       "    <tr>\n",
       "      <th>column</th>\n",
       "      <th>categories</th>\n",
       "      <th></th>\n",
       "    </tr>\n",
       "  </thead>\n",
       "  <tbody>\n",
       "    <tr>\n",
       "      <th rowspan=\"12\" valign=\"top\">job</th>\n",
       "      <th>admin.</th>\n",
       "      <td>0.253035</td>\n",
       "    </tr>\n",
       "    <tr>\n",
       "      <th>blue-collar</th>\n",
       "      <td>0.224677</td>\n",
       "    </tr>\n",
       "    <tr>\n",
       "      <th>technician</th>\n",
       "      <td>0.163713</td>\n",
       "    </tr>\n",
       "    <tr>\n",
       "      <th>services</th>\n",
       "      <td>0.096363</td>\n",
       "    </tr>\n",
       "    <tr>\n",
       "      <th>management</th>\n",
       "      <td>0.070992</td>\n",
       "    </tr>\n",
       "    <tr>\n",
       "      <th>retired</th>\n",
       "      <td>0.041760</td>\n",
       "    </tr>\n",
       "    <tr>\n",
       "      <th>entrepreneur</th>\n",
       "      <td>0.035350</td>\n",
       "    </tr>\n",
       "    <tr>\n",
       "      <th>self-employed</th>\n",
       "      <td>0.034500</td>\n",
       "    </tr>\n",
       "    <tr>\n",
       "      <th>housemaid</th>\n",
       "      <td>0.025736</td>\n",
       "    </tr>\n",
       "    <tr>\n",
       "      <th>unemployed</th>\n",
       "      <td>0.024619</td>\n",
       "    </tr>\n",
       "    <tr>\n",
       "      <th>student</th>\n",
       "      <td>0.021244</td>\n",
       "    </tr>\n",
       "    <tr>\n",
       "      <th>unknown</th>\n",
       "      <td>0.008012</td>\n",
       "    </tr>\n",
       "    <tr>\n",
       "      <th rowspan=\"4\" valign=\"top\">marital</th>\n",
       "      <th>married</th>\n",
       "      <td>0.605225</td>\n",
       "    </tr>\n",
       "    <tr>\n",
       "      <th>single</th>\n",
       "      <td>0.280859</td>\n",
       "    </tr>\n",
       "    <tr>\n",
       "      <th>divorced</th>\n",
       "      <td>0.111974</td>\n",
       "    </tr>\n",
       "    <tr>\n",
       "      <th>unknown</th>\n",
       "      <td>0.001942</td>\n",
       "    </tr>\n",
       "    <tr>\n",
       "      <th rowspan=\"8\" valign=\"top\">education</th>\n",
       "      <th>university.degree</th>\n",
       "      <td>0.295426</td>\n",
       "    </tr>\n",
       "    <tr>\n",
       "      <th>high.school</th>\n",
       "      <td>0.231014</td>\n",
       "    </tr>\n",
       "    <tr>\n",
       "      <th>basic.9y</th>\n",
       "      <td>0.146766</td>\n",
       "    </tr>\n",
       "    <tr>\n",
       "      <th>professional.course</th>\n",
       "      <td>0.127294</td>\n",
       "    </tr>\n",
       "    <tr>\n",
       "      <th>basic.4y</th>\n",
       "      <td>0.101389</td>\n",
       "    </tr>\n",
       "    <tr>\n",
       "      <th>basic.6y</th>\n",
       "      <td>0.055647</td>\n",
       "    </tr>\n",
       "    <tr>\n",
       "      <th>unknown</th>\n",
       "      <td>0.042027</td>\n",
       "    </tr>\n",
       "    <tr>\n",
       "      <th>illiterate</th>\n",
       "      <td>0.000437</td>\n",
       "    </tr>\n",
       "    <tr>\n",
       "      <th rowspan=\"3\" valign=\"top\">default</th>\n",
       "      <th>no</th>\n",
       "      <td>0.791201</td>\n",
       "    </tr>\n",
       "    <tr>\n",
       "      <th>unknown</th>\n",
       "      <td>0.208726</td>\n",
       "    </tr>\n",
       "    <tr>\n",
       "      <th>yes</th>\n",
       "      <td>0.000073</td>\n",
       "    </tr>\n",
       "    <tr>\n",
       "      <th rowspan=\"3\" valign=\"top\">housing</th>\n",
       "      <th>yes</th>\n",
       "      <td>0.523842</td>\n",
       "    </tr>\n",
       "    <tr>\n",
       "      <th>no</th>\n",
       "      <td>0.452122</td>\n",
       "    </tr>\n",
       "    <tr>\n",
       "      <th>unknown</th>\n",
       "      <td>0.024036</td>\n",
       "    </tr>\n",
       "    <tr>\n",
       "      <th rowspan=\"3\" valign=\"top\">loan</th>\n",
       "      <th>no</th>\n",
       "      <td>0.824269</td>\n",
       "    </tr>\n",
       "    <tr>\n",
       "      <th>yes</th>\n",
       "      <td>0.151695</td>\n",
       "    </tr>\n",
       "    <tr>\n",
       "      <th>unknown</th>\n",
       "      <td>0.024036</td>\n",
       "    </tr>\n",
       "    <tr>\n",
       "      <th rowspan=\"2\" valign=\"top\">contact</th>\n",
       "      <th>cellular</th>\n",
       "      <td>0.634748</td>\n",
       "    </tr>\n",
       "    <tr>\n",
       "      <th>telephone</th>\n",
       "      <td>0.365252</td>\n",
       "    </tr>\n",
       "    <tr>\n",
       "      <th rowspan=\"10\" valign=\"top\">month</th>\n",
       "      <th>may</th>\n",
       "      <td>0.334296</td>\n",
       "    </tr>\n",
       "    <tr>\n",
       "      <th>jul</th>\n",
       "      <td>0.174177</td>\n",
       "    </tr>\n",
       "    <tr>\n",
       "      <th>aug</th>\n",
       "      <td>0.149995</td>\n",
       "    </tr>\n",
       "    <tr>\n",
       "      <th>jun</th>\n",
       "      <td>0.129115</td>\n",
       "    </tr>\n",
       "    <tr>\n",
       "      <th>nov</th>\n",
       "      <td>0.099568</td>\n",
       "    </tr>\n",
       "    <tr>\n",
       "      <th>apr</th>\n",
       "      <td>0.063902</td>\n",
       "    </tr>\n",
       "    <tr>\n",
       "      <th>oct</th>\n",
       "      <td>0.017432</td>\n",
       "    </tr>\n",
       "    <tr>\n",
       "      <th>sep</th>\n",
       "      <td>0.013839</td>\n",
       "    </tr>\n",
       "    <tr>\n",
       "      <th>mar</th>\n",
       "      <td>0.013256</td>\n",
       "    </tr>\n",
       "    <tr>\n",
       "      <th>dec</th>\n",
       "      <td>0.004419</td>\n",
       "    </tr>\n",
       "    <tr>\n",
       "      <th rowspan=\"5\" valign=\"top\">day_of_week</th>\n",
       "      <th>thu</th>\n",
       "      <td>0.209357</td>\n",
       "    </tr>\n",
       "    <tr>\n",
       "      <th>mon</th>\n",
       "      <td>0.206711</td>\n",
       "    </tr>\n",
       "    <tr>\n",
       "      <th>wed</th>\n",
       "      <td>0.197485</td>\n",
       "    </tr>\n",
       "    <tr>\n",
       "      <th>tue</th>\n",
       "      <td>0.196416</td>\n",
       "    </tr>\n",
       "    <tr>\n",
       "      <th>fri</th>\n",
       "      <td>0.190031</td>\n",
       "    </tr>\n",
       "    <tr>\n",
       "      <th rowspan=\"3\" valign=\"top\">poutcome</th>\n",
       "      <th>nonexistent</th>\n",
       "      <td>0.863431</td>\n",
       "    </tr>\n",
       "    <tr>\n",
       "      <th>failure</th>\n",
       "      <td>0.103234</td>\n",
       "    </tr>\n",
       "    <tr>\n",
       "      <th>success</th>\n",
       "      <td>0.033335</td>\n",
       "    </tr>\n",
       "  </tbody>\n",
       "</table>\n",
       "</div>"
      ],
      "text/plain": [
       "                                   counts\n",
       "column      categories                   \n",
       "job         admin.               0.253035\n",
       "            blue-collar          0.224677\n",
       "            technician           0.163713\n",
       "            services             0.096363\n",
       "            management           0.070992\n",
       "            retired              0.041760\n",
       "            entrepreneur         0.035350\n",
       "            self-employed        0.034500\n",
       "            housemaid            0.025736\n",
       "            unemployed           0.024619\n",
       "            student              0.021244\n",
       "            unknown              0.008012\n",
       "marital     married              0.605225\n",
       "            single               0.280859\n",
       "            divorced             0.111974\n",
       "            unknown              0.001942\n",
       "education   university.degree    0.295426\n",
       "            high.school          0.231014\n",
       "            basic.9y             0.146766\n",
       "            professional.course  0.127294\n",
       "            basic.4y             0.101389\n",
       "            basic.6y             0.055647\n",
       "            unknown              0.042027\n",
       "            illiterate           0.000437\n",
       "default     no                   0.791201\n",
       "            unknown              0.208726\n",
       "            yes                  0.000073\n",
       "housing     yes                  0.523842\n",
       "            no                   0.452122\n",
       "            unknown              0.024036\n",
       "loan        no                   0.824269\n",
       "            yes                  0.151695\n",
       "            unknown              0.024036\n",
       "contact     cellular             0.634748\n",
       "            telephone            0.365252\n",
       "month       may                  0.334296\n",
       "            jul                  0.174177\n",
       "            aug                  0.149995\n",
       "            jun                  0.129115\n",
       "            nov                  0.099568\n",
       "            apr                  0.063902\n",
       "            oct                  0.017432\n",
       "            sep                  0.013839\n",
       "            mar                  0.013256\n",
       "            dec                  0.004419\n",
       "day_of_week thu                  0.209357\n",
       "            mon                  0.206711\n",
       "            wed                  0.197485\n",
       "            tue                  0.196416\n",
       "            fri                  0.190031\n",
       "poutcome    nonexistent          0.863431\n",
       "            failure              0.103234\n",
       "            success              0.033335"
      ]
     },
     "execution_count": 8,
     "metadata": {},
     "output_type": "execute_result"
    }
   ],
   "source": [
    "data_types = data.dtypes\n",
    "cat_columns = list(data_types[data_types == 'object'].index)\n",
    "l = [data[col].value_counts(normalize=True).sort_values(ascending=False) for col in cat_columns]\n",
    "l = pd.concat([pd.DataFrame({'counts': col.values, 'column': col.name, 'categories': col.index}) for col in l])\n",
    "l = l.set_index(['column', 'categories'])\n",
    "l\n"
   ]
  },
  {
   "cell_type": "code",
   "execution_count": 9,
   "metadata": {},
   "outputs": [
    {
     "data": {
      "text/plain": [
       "10"
      ]
     },
     "execution_count": 9,
     "metadata": {},
     "output_type": "execute_result"
    }
   ],
   "source": [
    "len(cat_columns)"
   ]
  },
  {
   "cell_type": "markdown",
   "metadata": {},
   "source": [
    "**Out come of above analysis:**\n",
    " \n",
    " 1. Education: cand be treated as ordinal feature\n",
    "   \n",
    " 2. Some categories has Unknown(NAs), na % is less except in default\n",
    "     * first try imputing them with mode them. \n",
    "     * keep the as its own category\n",
    "        \n",
    "        "
   ]
  },
  {
   "cell_type": "markdown",
   "metadata": {},
   "source": [
    "# understanding numerical variables"
   ]
  },
  {
   "cell_type": "code",
   "execution_count": 10,
   "metadata": {},
   "outputs": [],
   "source": [
    "num_columns = list(data_types[data_types != 'object'].index)\n"
   ]
  },
  {
   "cell_type": "code",
   "execution_count": 11,
   "metadata": {},
   "outputs": [
    {
     "data": {
      "text/plain": [
       "10"
      ]
     },
     "execution_count": 11,
     "metadata": {},
     "output_type": "execute_result"
    }
   ],
   "source": [
    "len(num_columns)"
   ]
  },
  {
   "cell_type": "code",
   "execution_count": 12,
   "metadata": {},
   "outputs": [
    {
     "data": {
      "text/html": [
       "<div>\n",
       "<style scoped>\n",
       "    .dataframe tbody tr th:only-of-type {\n",
       "        vertical-align: middle;\n",
       "    }\n",
       "\n",
       "    .dataframe tbody tr th {\n",
       "        vertical-align: top;\n",
       "    }\n",
       "\n",
       "    .dataframe thead th {\n",
       "        text-align: right;\n",
       "    }\n",
       "</style>\n",
       "<table border=\"1\" class=\"dataframe\">\n",
       "  <thead>\n",
       "    <tr style=\"text-align: right;\">\n",
       "      <th></th>\n",
       "      <th>age</th>\n",
       "      <th>duration</th>\n",
       "      <th>campaign</th>\n",
       "      <th>pdays</th>\n",
       "      <th>previous</th>\n",
       "      <th>emp.var.rate</th>\n",
       "      <th>cons.price.idx</th>\n",
       "      <th>cons.conf.idx</th>\n",
       "      <th>euribor3m</th>\n",
       "      <th>nr.employed</th>\n",
       "    </tr>\n",
       "  </thead>\n",
       "  <tbody>\n",
       "    <tr>\n",
       "      <th>count</th>\n",
       "      <td>41188.00000</td>\n",
       "      <td>41188.000000</td>\n",
       "      <td>41188.000000</td>\n",
       "      <td>41188.000000</td>\n",
       "      <td>41188.000000</td>\n",
       "      <td>41188.000000</td>\n",
       "      <td>41188.000000</td>\n",
       "      <td>41188.000000</td>\n",
       "      <td>41188.000000</td>\n",
       "      <td>41188.000000</td>\n",
       "    </tr>\n",
       "    <tr>\n",
       "      <th>mean</th>\n",
       "      <td>40.02406</td>\n",
       "      <td>258.285010</td>\n",
       "      <td>2.567593</td>\n",
       "      <td>962.475454</td>\n",
       "      <td>0.172963</td>\n",
       "      <td>0.081886</td>\n",
       "      <td>93.575664</td>\n",
       "      <td>-40.502600</td>\n",
       "      <td>3.621291</td>\n",
       "      <td>5167.035911</td>\n",
       "    </tr>\n",
       "    <tr>\n",
       "      <th>std</th>\n",
       "      <td>10.42125</td>\n",
       "      <td>259.279249</td>\n",
       "      <td>2.770014</td>\n",
       "      <td>186.910907</td>\n",
       "      <td>0.494901</td>\n",
       "      <td>1.570960</td>\n",
       "      <td>0.578840</td>\n",
       "      <td>4.628198</td>\n",
       "      <td>1.734447</td>\n",
       "      <td>72.251528</td>\n",
       "    </tr>\n",
       "    <tr>\n",
       "      <th>min</th>\n",
       "      <td>17.00000</td>\n",
       "      <td>0.000000</td>\n",
       "      <td>1.000000</td>\n",
       "      <td>0.000000</td>\n",
       "      <td>0.000000</td>\n",
       "      <td>-3.400000</td>\n",
       "      <td>92.201000</td>\n",
       "      <td>-50.800000</td>\n",
       "      <td>0.634000</td>\n",
       "      <td>4963.600000</td>\n",
       "    </tr>\n",
       "    <tr>\n",
       "      <th>25%</th>\n",
       "      <td>32.00000</td>\n",
       "      <td>102.000000</td>\n",
       "      <td>1.000000</td>\n",
       "      <td>999.000000</td>\n",
       "      <td>0.000000</td>\n",
       "      <td>-1.800000</td>\n",
       "      <td>93.075000</td>\n",
       "      <td>-42.700000</td>\n",
       "      <td>1.344000</td>\n",
       "      <td>5099.100000</td>\n",
       "    </tr>\n",
       "    <tr>\n",
       "      <th>50%</th>\n",
       "      <td>38.00000</td>\n",
       "      <td>180.000000</td>\n",
       "      <td>2.000000</td>\n",
       "      <td>999.000000</td>\n",
       "      <td>0.000000</td>\n",
       "      <td>1.100000</td>\n",
       "      <td>93.749000</td>\n",
       "      <td>-41.800000</td>\n",
       "      <td>4.857000</td>\n",
       "      <td>5191.000000</td>\n",
       "    </tr>\n",
       "    <tr>\n",
       "      <th>75%</th>\n",
       "      <td>47.00000</td>\n",
       "      <td>319.000000</td>\n",
       "      <td>3.000000</td>\n",
       "      <td>999.000000</td>\n",
       "      <td>0.000000</td>\n",
       "      <td>1.400000</td>\n",
       "      <td>93.994000</td>\n",
       "      <td>-36.400000</td>\n",
       "      <td>4.961000</td>\n",
       "      <td>5228.100000</td>\n",
       "    </tr>\n",
       "    <tr>\n",
       "      <th>max</th>\n",
       "      <td>98.00000</td>\n",
       "      <td>4918.000000</td>\n",
       "      <td>56.000000</td>\n",
       "      <td>999.000000</td>\n",
       "      <td>7.000000</td>\n",
       "      <td>1.400000</td>\n",
       "      <td>94.767000</td>\n",
       "      <td>-26.900000</td>\n",
       "      <td>5.045000</td>\n",
       "      <td>5228.100000</td>\n",
       "    </tr>\n",
       "  </tbody>\n",
       "</table>\n",
       "</div>"
      ],
      "text/plain": [
       "               age      duration      campaign         pdays      previous  \\\n",
       "count  41188.00000  41188.000000  41188.000000  41188.000000  41188.000000   \n",
       "mean      40.02406    258.285010      2.567593    962.475454      0.172963   \n",
       "std       10.42125    259.279249      2.770014    186.910907      0.494901   \n",
       "min       17.00000      0.000000      1.000000      0.000000      0.000000   \n",
       "25%       32.00000    102.000000      1.000000    999.000000      0.000000   \n",
       "50%       38.00000    180.000000      2.000000    999.000000      0.000000   \n",
       "75%       47.00000    319.000000      3.000000    999.000000      0.000000   \n",
       "max       98.00000   4918.000000     56.000000    999.000000      7.000000   \n",
       "\n",
       "       emp.var.rate  cons.price.idx  cons.conf.idx     euribor3m   nr.employed  \n",
       "count  41188.000000    41188.000000   41188.000000  41188.000000  41188.000000  \n",
       "mean       0.081886       93.575664     -40.502600      3.621291   5167.035911  \n",
       "std        1.570960        0.578840       4.628198      1.734447     72.251528  \n",
       "min       -3.400000       92.201000     -50.800000      0.634000   4963.600000  \n",
       "25%       -1.800000       93.075000     -42.700000      1.344000   5099.100000  \n",
       "50%        1.100000       93.749000     -41.800000      4.857000   5191.000000  \n",
       "75%        1.400000       93.994000     -36.400000      4.961000   5228.100000  \n",
       "max        1.400000       94.767000     -26.900000      5.045000   5228.100000  "
      ]
     },
     "execution_count": 12,
     "metadata": {},
     "output_type": "execute_result"
    }
   ],
   "source": [
    "data.describe()"
   ]
  },
  {
   "cell_type": "code",
   "execution_count": 13,
   "metadata": {},
   "outputs": [
    {
     "data": {
      "text/plain": [
       "age                 78\n",
       "duration          1544\n",
       "campaign            42\n",
       "pdays               27\n",
       "previous             8\n",
       "emp.var.rate        10\n",
       "cons.price.idx      26\n",
       "cons.conf.idx       26\n",
       "euribor3m          316\n",
       "nr.employed         11\n",
       "dtype: int64"
      ]
     },
     "execution_count": 13,
     "metadata": {},
     "output_type": "execute_result"
    }
   ],
   "source": [
    "data[num_columns].nunique()"
   ]
  },
  {
   "cell_type": "code",
   "execution_count": 14,
   "metadata": {},
   "outputs": [
    {
     "data": {
      "text/plain": [
       "<AxesSubplot:ylabel='Frequency'>"
      ]
     },
     "execution_count": 14,
     "metadata": {},
     "output_type": "execute_result"
    },
    {
     "data": {
      "image/png": "[encoded data removed]",
      "text/plain": [
       "<Figure size 432x288 with 1 Axes>"
      ]
     },
     "metadata": {
      "needs_background": "light"
     },
     "output_type": "display_data"
    }
   ],
   "source": [
    "data['campaign'].plot.hist()"
   ]
  },
  {
   "cell_type": "code",
   "execution_count": 15,
   "metadata": {},
   "outputs": [
    {
     "data": {
      "text/plain": [
       "<AxesSubplot:ylabel='Frequency'>"
      ]
     },
     "execution_count": 15,
     "metadata": {},
     "output_type": "execute_result"
    },
    {
     "data": {
      "image/png": "[encoded data removed]",
      "text/plain": [
       "<Figure size 432x288 with 1 Axes>"
      ]
     },
     "metadata": {
      "needs_background": "light"
     },
     "output_type": "display_data"
    }
   ],
   "source": [
    "data['pdays'].plot.hist(bins=100)"
   ]
  },
  {
   "cell_type": "code",
   "execution_count": 16,
   "metadata": {},
   "outputs": [
    {
     "data": {
      "text/plain": [
       "<AxesSubplot:ylabel='Frequency'>"
      ]
     },
     "execution_count": 16,
     "metadata": {},
     "output_type": "execute_result"
    },
    {
     "data": {
      "image/png": "[encoded data removed]",
      "text/plain": [
       "<Figure size 432x288 with 1 Axes>"
      ]
     },
     "metadata": {
      "needs_background": "light"
     },
     "output_type": "display_data"
    }
   ],
   "source": [
    "data['previous'].plot.hist()"
   ]
  },
  {
   "cell_type": "code",
   "execution_count": 17,
   "metadata": {},
   "outputs": [
    {
     "data": {
      "text/plain": [
       "<AxesSubplot:ylabel='Frequency'>"
      ]
     },
     "execution_count": 17,
     "metadata": {},
     "output_type": "execute_result"
    },
    {
     "data": {
      "image/png": "[encoded data removed]",
      "text/plain": [
       "<Figure size 432x288 with 1 Axes>"
      ]
     },
     "metadata": {
      "needs_background": "light"
     },
     "output_type": "display_data"
    }
   ],
   "source": [
    "data['emp.var.rate'].plot.hist()"
   ]
  },
  {
   "cell_type": "code",
   "execution_count": 18,
   "metadata": {},
   "outputs": [
    {
     "data": {
      "text/plain": [
       "<AxesSubplot:ylabel='Frequency'>"
      ]
     },
     "execution_count": 18,
     "metadata": {},
     "output_type": "execute_result"
    },
    {
     "data": {
      "image/png": "[encoded data removed]",
      "text/plain": [
       "<Figure size 432x288 with 1 Axes>"
      ]
     },
     "metadata": {
      "needs_background": "light"
     },
     "output_type": "display_data"
    }
   ],
   "source": [
    "data['cons.price.idx'].plot.hist()"
   ]
  },
  {
   "cell_type": "code",
   "execution_count": 19,
   "metadata": {},
   "outputs": [
    {
     "data": {
      "text/plain": [
       "<AxesSubplot:ylabel='Frequency'>"
      ]
     },
     "execution_count": 19,
     "metadata": {},
     "output_type": "execute_result"
    },
    {
     "data": {
      "image/png": "[encoded data removed]",
      "text/plain": [
       "<Figure size 432x288 with 1 Axes>"
      ]
     },
     "metadata": {
      "needs_background": "light"
     },
     "output_type": "display_data"
    }
   ],
   "source": [
    "data['cons.conf.idx'].plot.hist()"
   ]
  },
  {
   "cell_type": "code",
   "execution_count": 20,
   "metadata": {},
   "outputs": [
    {
     "data": {
      "text/plain": [
       "<AxesSubplot:ylabel='Frequency'>"
      ]
     },
     "execution_count": 20,
     "metadata": {},
     "output_type": "execute_result"
    },
    {
     "data": {
      "image/png": "[encoded data removed]",
      "text/plain": [
       "<Figure size 432x288 with 1 Axes>"
      ]
     },
     "metadata": {
      "needs_background": "light"
     },
     "output_type": "display_data"
    }
   ],
   "source": [
    "data['nr.employed'].plot.hist()"
   ]
  },
  {
   "cell_type": "code",
   "execution_count": 21,
   "metadata": {},
   "outputs": [
    {
     "data": {
      "text/html": [
       "<style  type=\"text/css\" >\n",
       "    #T_b02a11ae_d80c_11ea_aecd_9cb6d021cf40row0_col0 {\n",
       "            background-color:  #023858;\n",
       "            color:  #f1f1f1;\n",
       "        }    #T_b02a11ae_d80c_11ea_aecd_9cb6d021cf40row0_col1 {\n",
       "            background-color:  #f5eff6;\n",
       "            color:  #000000;\n",
       "        }    #T_b02a11ae_d80c_11ea_aecd_9cb6d021cf40row0_col2 {\n",
       "            background-color:  #f4edf6;\n",
       "            color:  #000000;\n",
       "        }    #T_b02a11ae_d80c_11ea_aecd_9cb6d021cf40row0_col3 {\n",
       "            background-color:  #afc1dd;\n",
       "            color:  #000000;\n",
       "        }    #T_b02a11ae_d80c_11ea_aecd_9cb6d021cf40row0_col4 {\n",
       "            background-color:  #a2bcda;\n",
       "            color:  #000000;\n",
       "        }    #T_b02a11ae_d80c_11ea_aecd_9cb6d021cf40row0_col5 {\n",
       "            background-color:  #c1cae2;\n",
       "            color:  #000000;\n",
       "        }    #T_b02a11ae_d80c_11ea_aecd_9cb6d021cf40row0_col6 {\n",
       "            background-color:  #e2dfee;\n",
       "            color:  #000000;\n",
       "        }    #T_b02a11ae_d80c_11ea_aecd_9cb6d021cf40row0_col7 {\n",
       "            background-color:  #dbdaeb;\n",
       "            color:  #000000;\n",
       "        }    #T_b02a11ae_d80c_11ea_aecd_9cb6d021cf40row0_col8 {\n",
       "            background-color:  #b9c6e0;\n",
       "            color:  #000000;\n",
       "        }    #T_b02a11ae_d80c_11ea_aecd_9cb6d021cf40row0_col9 {\n",
       "            background-color:  #b8c6e0;\n",
       "            color:  #000000;\n",
       "        }    #T_b02a11ae_d80c_11ea_aecd_9cb6d021cf40row1_col0 {\n",
       "            background-color:  #faf3f9;\n",
       "            color:  #000000;\n",
       "        }    #T_b02a11ae_d80c_11ea_aecd_9cb6d021cf40row1_col1 {\n",
       "            background-color:  #023858;\n",
       "            color:  #f1f1f1;\n",
       "        }    #T_b02a11ae_d80c_11ea_aecd_9cb6d021cf40row1_col2 {\n",
       "            background-color:  #fef6fb;\n",
       "            color:  #000000;\n",
       "        }    #T_b02a11ae_d80c_11ea_aecd_9cb6d021cf40row1_col3 {\n",
       "            background-color:  #b1c2de;\n",
       "            color:  #000000;\n",
       "        }    #T_b02a11ae_d80c_11ea_aecd_9cb6d021cf40row1_col4 {\n",
       "            background-color:  #a2bcda;\n",
       "            color:  #000000;\n",
       "        }    #T_b02a11ae_d80c_11ea_aecd_9cb6d021cf40row1_col5 {\n",
       "            background-color:  #c8cde4;\n",
       "            color:  #000000;\n",
       "        }    #T_b02a11ae_d80c_11ea_aecd_9cb6d021cf40row1_col6 {\n",
       "            background-color:  #e1dfed;\n",
       "            color:  #000000;\n",
       "        }    #T_b02a11ae_d80c_11ea_aecd_9cb6d021cf40row1_col7 {\n",
       "            background-color:  #f4edf6;\n",
       "            color:  #000000;\n",
       "        }    #T_b02a11ae_d80c_11ea_aecd_9cb6d021cf40row1_col8 {\n",
       "            background-color:  #c2cbe2;\n",
       "            color:  #000000;\n",
       "        }    #T_b02a11ae_d80c_11ea_aecd_9cb6d021cf40row1_col9 {\n",
       "            background-color:  #bfc9e1;\n",
       "            color:  #000000;\n",
       "        }    #T_b02a11ae_d80c_11ea_aecd_9cb6d021cf40row2_col0 {\n",
       "            background-color:  #faf2f8;\n",
       "            color:  #000000;\n",
       "        }    #T_b02a11ae_d80c_11ea_aecd_9cb6d021cf40row2_col1 {\n",
       "            background-color:  #fff7fb;\n",
       "            color:  #000000;\n",
       "        }    #T_b02a11ae_d80c_11ea_aecd_9cb6d021cf40row2_col2 {\n",
       "            background-color:  #023858;\n",
       "            color:  #f1f1f1;\n",
       "        }    #T_b02a11ae_d80c_11ea_aecd_9cb6d021cf40row2_col3 {\n",
       "            background-color:  #9ab8d8;\n",
       "            color:  #000000;\n",
       "        }    #T_b02a11ae_d80c_11ea_aecd_9cb6d021cf40row2_col4 {\n",
       "            background-color:  #b9c6e0;\n",
       "            color:  #000000;\n",
       "        }    #T_b02a11ae_d80c_11ea_aecd_9cb6d021cf40row2_col5 {\n",
       "            background-color:  #9cb9d9;\n",
       "            color:  #000000;\n",
       "        }    #T_b02a11ae_d80c_11ea_aecd_9cb6d021cf40row2_col6 {\n",
       "            background-color:  #c8cde4;\n",
       "            color:  #000000;\n",
       "        }    #T_b02a11ae_d80c_11ea_aecd_9cb6d021cf40row2_col7 {\n",
       "            background-color:  #f4eef6;\n",
       "            color:  #000000;\n",
       "        }    #T_b02a11ae_d80c_11ea_aecd_9cb6d021cf40row2_col8 {\n",
       "            background-color:  #9ab8d8;\n",
       "            color:  #000000;\n",
       "        }    #T_b02a11ae_d80c_11ea_aecd_9cb6d021cf40row2_col9 {\n",
       "            background-color:  #8fb4d6;\n",
       "            color:  #000000;\n",
       "        }    #T_b02a11ae_d80c_11ea_aecd_9cb6d021cf40row3_col0 {\n",
       "            background-color:  #fff7fb;\n",
       "            color:  #000000;\n",
       "        }    #T_b02a11ae_d80c_11ea_aecd_9cb6d021cf40row3_col1 {\n",
       "            background-color:  #fcf4fa;\n",
       "            color:  #000000;\n",
       "        }    #T_b02a11ae_d80c_11ea_aecd_9cb6d021cf40row3_col2 {\n",
       "            background-color:  #ede7f2;\n",
       "            color:  #000000;\n",
       "        }    #T_b02a11ae_d80c_11ea_aecd_9cb6d021cf40row3_col3 {\n",
       "            background-color:  #023858;\n",
       "            color:  #f1f1f1;\n",
       "        }    #T_b02a11ae_d80c_11ea_aecd_9cb6d021cf40row3_col4 {\n",
       "            background-color:  #fff7fb;\n",
       "            color:  #000000;\n",
       "        }    #T_b02a11ae_d80c_11ea_aecd_9cb6d021cf40row3_col5 {\n",
       "            background-color:  #79abd0;\n",
       "            color:  #000000;\n",
       "        }    #T_b02a11ae_d80c_11ea_aecd_9cb6d021cf40row3_col6 {\n",
       "            background-color:  #d3d4e7;\n",
       "            color:  #000000;\n",
       "        }    #T_b02a11ae_d80c_11ea_aecd_9cb6d021cf40row3_col7 {\n",
       "            background-color:  #fff7fb;\n",
       "            color:  #000000;\n",
       "        }    #T_b02a11ae_d80c_11ea_aecd_9cb6d021cf40row3_col8 {\n",
       "            background-color:  #6ba5cd;\n",
       "            color:  #000000;\n",
       "        }    #T_b02a11ae_d80c_11ea_aecd_9cb6d021cf40row3_col9 {\n",
       "            background-color:  #4a98c5;\n",
       "            color:  #000000;\n",
       "        }    #T_b02a11ae_d80c_11ea_aecd_9cb6d021cf40row4_col0 {\n",
       "            background-color:  #f7f0f7;\n",
       "            color:  #000000;\n",
       "        }    #T_b02a11ae_d80c_11ea_aecd_9cb6d021cf40row4_col1 {\n",
       "            background-color:  #f2ecf5;\n",
       "            color:  #000000;\n",
       "        }    #T_b02a11ae_d80c_11ea_aecd_9cb6d021cf40row4_col2 {\n",
       "            background-color:  #fff7fb;\n",
       "            color:  #000000;\n",
       "        }    #T_b02a11ae_d80c_11ea_aecd_9cb6d021cf40row4_col3 {\n",
       "            background-color:  #fff7fb;\n",
       "            color:  #000000;\n",
       "        }    #T_b02a11ae_d80c_11ea_aecd_9cb6d021cf40row4_col4 {\n",
       "            background-color:  #023858;\n",
       "            color:  #f1f1f1;\n",
       "        }    #T_b02a11ae_d80c_11ea_aecd_9cb6d021cf40row4_col5 {\n",
       "            background-color:  #fff7fb;\n",
       "            color:  #000000;\n",
       "        }    #T_b02a11ae_d80c_11ea_aecd_9cb6d021cf40row4_col6 {\n",
       "            background-color:  #fff7fb;\n",
       "            color:  #000000;\n",
       "        }    #T_b02a11ae_d80c_11ea_aecd_9cb6d021cf40row4_col7 {\n",
       "            background-color:  #faf2f8;\n",
       "            color:  #000000;\n",
       "        }    #T_b02a11ae_d80c_11ea_aecd_9cb6d021cf40row4_col8 {\n",
       "            background-color:  #fff7fb;\n",
       "            color:  #000000;\n",
       "        }    #T_b02a11ae_d80c_11ea_aecd_9cb6d021cf40row4_col9 {\n",
       "            background-color:  #fff7fb;\n",
       "            color:  #000000;\n",
       "        }    #T_b02a11ae_d80c_11ea_aecd_9cb6d021cf40row5_col0 {\n",
       "            background-color:  #faf3f9;\n",
       "            color:  #000000;\n",
       "        }    #T_b02a11ae_d80c_11ea_aecd_9cb6d021cf40row5_col1 {\n",
       "            background-color:  #f9f2f8;\n",
       "            color:  #000000;\n",
       "        }    #T_b02a11ae_d80c_11ea_aecd_9cb6d021cf40row5_col2 {\n",
       "            background-color:  #d9d8ea;\n",
       "            color:  #000000;\n",
       "        }    #T_b02a11ae_d80c_11ea_aecd_9cb6d021cf40row5_col3 {\n",
       "            background-color:  #60a1ca;\n",
       "            color:  #000000;\n",
       "        }    #T_b02a11ae_d80c_11ea_aecd_9cb6d021cf40row5_col4 {\n",
       "            background-color:  #f0eaf4;\n",
       "            color:  #000000;\n",
       "        }    #T_b02a11ae_d80c_11ea_aecd_9cb6d021cf40row5_col5 {\n",
       "            background-color:  #023858;\n",
       "            color:  #f1f1f1;\n",
       "        }    #T_b02a11ae_d80c_11ea_aecd_9cb6d021cf40row5_col6 {\n",
       "            background-color:  #04649e;\n",
       "            color:  #f1f1f1;\n",
       "        }    #T_b02a11ae_d80c_11ea_aecd_9cb6d021cf40row5_col7 {\n",
       "            background-color:  #cccfe5;\n",
       "            color:  #000000;\n",
       "        }    #T_b02a11ae_d80c_11ea_aecd_9cb6d021cf40row5_col8 {\n",
       "            background-color:  #023c5f;\n",
       "            color:  #f1f1f1;\n",
       "        }    #T_b02a11ae_d80c_11ea_aecd_9cb6d021cf40row5_col9 {\n",
       "            background-color:  #034871;\n",
       "            color:  #f1f1f1;\n",
       "        }    #T_b02a11ae_d80c_11ea_aecd_9cb6d021cf40row6_col0 {\n",
       "            background-color:  #faf3f9;\n",
       "            color:  #000000;\n",
       "        }    #T_b02a11ae_d80c_11ea_aecd_9cb6d021cf40row6_col1 {\n",
       "            background-color:  #f4eef6;\n",
       "            color:  #000000;\n",
       "        }    #T_b02a11ae_d80c_11ea_aecd_9cb6d021cf40row6_col2 {\n",
       "            background-color:  #dddbec;\n",
       "            color:  #000000;\n",
       "        }    #T_b02a11ae_d80c_11ea_aecd_9cb6d021cf40row6_col3 {\n",
       "            background-color:  #94b6d7;\n",
       "            color:  #000000;\n",
       "        }    #T_b02a11ae_d80c_11ea_aecd_9cb6d021cf40row6_col4 {\n",
       "            background-color:  #d2d3e7;\n",
       "            color:  #000000;\n",
       "        }    #T_b02a11ae_d80c_11ea_aecd_9cb6d021cf40row6_col5 {\n",
       "            background-color:  #046096;\n",
       "            color:  #f1f1f1;\n",
       "        }    #T_b02a11ae_d80c_11ea_aecd_9cb6d021cf40row6_col6 {\n",
       "            background-color:  #023858;\n",
       "            color:  #f1f1f1;\n",
       "        }    #T_b02a11ae_d80c_11ea_aecd_9cb6d021cf40row6_col7 {\n",
       "            background-color:  #e9e5f1;\n",
       "            color:  #000000;\n",
       "        }    #T_b02a11ae_d80c_11ea_aecd_9cb6d021cf40row6_col8 {\n",
       "            background-color:  #0569a5;\n",
       "            color:  #f1f1f1;\n",
       "        }    #T_b02a11ae_d80c_11ea_aecd_9cb6d021cf40row6_col9 {\n",
       "            background-color:  #2081b9;\n",
       "            color:  #000000;\n",
       "        }    #T_b02a11ae_d80c_11ea_aecd_9cb6d021cf40row7_col0 {\n",
       "            background-color:  #e5e1ef;\n",
       "            color:  #000000;\n",
       "        }    #T_b02a11ae_d80c_11ea_aecd_9cb6d021cf40row7_col1 {\n",
       "            background-color:  #f6eff7;\n",
       "            color:  #000000;\n",
       "        }    #T_b02a11ae_d80c_11ea_aecd_9cb6d021cf40row7_col2 {\n",
       "            background-color:  #f6eff7;\n",
       "            color:  #000000;\n",
       "        }    #T_b02a11ae_d80c_11ea_aecd_9cb6d021cf40row7_col3 {\n",
       "            background-color:  #bbc7e0;\n",
       "            color:  #000000;\n",
       "        }    #T_b02a11ae_d80c_11ea_aecd_9cb6d021cf40row7_col4 {\n",
       "            background-color:  #b3c3de;\n",
       "            color:  #000000;\n",
       "        }    #T_b02a11ae_d80c_11ea_aecd_9cb6d021cf40row7_col5 {\n",
       "            background-color:  #8eb3d5;\n",
       "            color:  #000000;\n",
       "        }    #T_b02a11ae_d80c_11ea_aecd_9cb6d021cf40row7_col6 {\n",
       "            background-color:  #d8d7e9;\n",
       "            color:  #000000;\n",
       "        }    #T_b02a11ae_d80c_11ea_aecd_9cb6d021cf40row7_col7 {\n",
       "            background-color:  #023858;\n",
       "            color:  #f1f1f1;\n",
       "        }    #T_b02a11ae_d80c_11ea_aecd_9cb6d021cf40row7_col8 {\n",
       "            background-color:  #73a9cf;\n",
       "            color:  #000000;\n",
       "        }    #T_b02a11ae_d80c_11ea_aecd_9cb6d021cf40row7_col9 {\n",
       "            background-color:  #9cb9d9;\n",
       "            color:  #000000;\n",
       "        }    #T_b02a11ae_d80c_11ea_aecd_9cb6d021cf40row8_col0 {\n",
       "            background-color:  #f8f1f8;\n",
       "            color:  #000000;\n",
       "        }    #T_b02a11ae_d80c_11ea_aecd_9cb6d021cf40row8_col1 {\n",
       "            background-color:  #faf2f8;\n",
       "            color:  #000000;\n",
       "        }    #T_b02a11ae_d80c_11ea_aecd_9cb6d021cf40row8_col2 {\n",
       "            background-color:  #dcdaeb;\n",
       "            color:  #000000;\n",
       "        }    #T_b02a11ae_d80c_11ea_aecd_9cb6d021cf40row8_col3 {\n",
       "            background-color:  #589ec8;\n",
       "            color:  #000000;\n",
       "        }    #T_b02a11ae_d80c_11ea_aecd_9cb6d021cf40row8_col4 {\n",
       "            background-color:  #f2ecf5;\n",
       "            color:  #000000;\n",
       "        }    #T_b02a11ae_d80c_11ea_aecd_9cb6d021cf40row8_col5 {\n",
       "            background-color:  #023d60;\n",
       "            color:  #f1f1f1;\n",
       "        }    #T_b02a11ae_d80c_11ea_aecd_9cb6d021cf40row8_col6 {\n",
       "            background-color:  #0872b1;\n",
       "            color:  #f1f1f1;\n",
       "        }    #T_b02a11ae_d80c_11ea_aecd_9cb6d021cf40row8_col7 {\n",
       "            background-color:  #b3c3de;\n",
       "            color:  #000000;\n",
       "        }    #T_b02a11ae_d80c_11ea_aecd_9cb6d021cf40row8_col8 {\n",
       "            background-color:  #023858;\n",
       "            color:  #f1f1f1;\n",
       "        }    #T_b02a11ae_d80c_11ea_aecd_9cb6d021cf40row8_col9 {\n",
       "            background-color:  #034267;\n",
       "            color:  #f1f1f1;\n",
       "        }    #T_b02a11ae_d80c_11ea_aecd_9cb6d021cf40row9_col0 {\n",
       "            background-color:  #fdf5fa;\n",
       "            color:  #000000;\n",
       "        }    #T_b02a11ae_d80c_11ea_aecd_9cb6d021cf40row9_col1 {\n",
       "            background-color:  #fbf4f9;\n",
       "            color:  #000000;\n",
       "        }    #T_b02a11ae_d80c_11ea_aecd_9cb6d021cf40row9_col2 {\n",
       "            background-color:  #dad9ea;\n",
       "            color:  #000000;\n",
       "        }    #T_b02a11ae_d80c_11ea_aecd_9cb6d021cf40row9_col3 {\n",
       "            background-color:  #4094c3;\n",
       "            color:  #000000;\n",
       "        }    #T_b02a11ae_d80c_11ea_aecd_9cb6d021cf40row9_col4 {\n",
       "            background-color:  #f7f0f7;\n",
       "            color:  #000000;\n",
       "        }    #T_b02a11ae_d80c_11ea_aecd_9cb6d021cf40row9_col5 {\n",
       "            background-color:  #034973;\n",
       "            color:  #f1f1f1;\n",
       "        }    #T_b02a11ae_d80c_11ea_aecd_9cb6d021cf40row9_col6 {\n",
       "            background-color:  #4094c3;\n",
       "            color:  #000000;\n",
       "        }    #T_b02a11ae_d80c_11ea_aecd_9cb6d021cf40row9_col7 {\n",
       "            background-color:  #e0deed;\n",
       "            color:  #000000;\n",
       "        }    #T_b02a11ae_d80c_11ea_aecd_9cb6d021cf40row9_col8 {\n",
       "            background-color:  #034267;\n",
       "            color:  #f1f1f1;\n",
       "        }    #T_b02a11ae_d80c_11ea_aecd_9cb6d021cf40row9_col9 {\n",
       "            background-color:  #023858;\n",
       "            color:  #f1f1f1;\n",
       "        }</style><table id=\"T_b02a11ae_d80c_11ea_aecd_9cb6d021cf40\" ><thead>    <tr>        <th class=\"blank level0\" ></th>        <th class=\"col_heading level0 col0\" >age</th>        <th class=\"col_heading level0 col1\" >duration</th>        <th class=\"col_heading level0 col2\" >campaign</th>        <th class=\"col_heading level0 col3\" >pdays</th>        <th class=\"col_heading level0 col4\" >previous</th>        <th class=\"col_heading level0 col5\" >emp.var.rate</th>        <th class=\"col_heading level0 col6\" >cons.price.idx</th>        <th class=\"col_heading level0 col7\" >cons.conf.idx</th>        <th class=\"col_heading level0 col8\" >euribor3m</th>        <th class=\"col_heading level0 col9\" >nr.employed</th>    </tr></thead><tbody>\n",
       "                <tr>\n",
       "                        <th id=\"T_b02a11ae_d80c_11ea_aecd_9cb6d021cf40level0_row0\" class=\"row_heading level0 row0\" >age</th>\n",
       "                        <td id=\"T_b02a11ae_d80c_11ea_aecd_9cb6d021cf40row0_col0\" class=\"data row0 col0\" >1.000000</td>\n",
       "                        <td id=\"T_b02a11ae_d80c_11ea_aecd_9cb6d021cf40row0_col1\" class=\"data row0 col1\" >-0.000808</td>\n",
       "                        <td id=\"T_b02a11ae_d80c_11ea_aecd_9cb6d021cf40row0_col2\" class=\"data row0 col2\" >0.004622</td>\n",
       "                        <td id=\"T_b02a11ae_d80c_11ea_aecd_9cb6d021cf40row0_col3\" class=\"data row0 col3\" >-0.034381</td>\n",
       "                        <td id=\"T_b02a11ae_d80c_11ea_aecd_9cb6d021cf40row0_col4\" class=\"data row0 col4\" >0.024379</td>\n",
       "                        <td id=\"T_b02a11ae_d80c_11ea_aecd_9cb6d021cf40row0_col5\" class=\"data row0 col5\" >-0.000242</td>\n",
       "                        <td id=\"T_b02a11ae_d80c_11ea_aecd_9cb6d021cf40row0_col6\" class=\"data row0 col6\" >0.001009</td>\n",
       "                        <td id=\"T_b02a11ae_d80c_11ea_aecd_9cb6d021cf40row0_col7\" class=\"data row0 col7\" >0.129075</td>\n",
       "                        <td id=\"T_b02a11ae_d80c_11ea_aecd_9cb6d021cf40row0_col8\" class=\"data row0 col8\" >0.010852</td>\n",
       "                        <td id=\"T_b02a11ae_d80c_11ea_aecd_9cb6d021cf40row0_col9\" class=\"data row0 col9\" >-0.017607</td>\n",
       "            </tr>\n",
       "            <tr>\n",
       "                        <th id=\"T_b02a11ae_d80c_11ea_aecd_9cb6d021cf40level0_row1\" class=\"row_heading level0 row1\" >duration</th>\n",
       "                        <td id=\"T_b02a11ae_d80c_11ea_aecd_9cb6d021cf40row1_col0\" class=\"data row1 col0\" >-0.000808</td>\n",
       "                        <td id=\"T_b02a11ae_d80c_11ea_aecd_9cb6d021cf40row1_col1\" class=\"data row1 col1\" >1.000000</td>\n",
       "                        <td id=\"T_b02a11ae_d80c_11ea_aecd_9cb6d021cf40row1_col2\" class=\"data row1 col2\" >-0.071765</td>\n",
       "                        <td id=\"T_b02a11ae_d80c_11ea_aecd_9cb6d021cf40row1_col3\" class=\"data row1 col3\" >-0.047556</td>\n",
       "                        <td id=\"T_b02a11ae_d80c_11ea_aecd_9cb6d021cf40row1_col4\" class=\"data row1 col4\" >0.020600</td>\n",
       "                        <td id=\"T_b02a11ae_d80c_11ea_aecd_9cb6d021cf40row1_col5\" class=\"data row1 col5\" >-0.027941</td>\n",
       "                        <td id=\"T_b02a11ae_d80c_11ea_aecd_9cb6d021cf40row1_col6\" class=\"data row1 col6\" >0.005303</td>\n",
       "                        <td id=\"T_b02a11ae_d80c_11ea_aecd_9cb6d021cf40row1_col7\" class=\"data row1 col7\" >-0.008126</td>\n",
       "                        <td id=\"T_b02a11ae_d80c_11ea_aecd_9cb6d021cf40row1_col8\" class=\"data row1 col8\" >-0.032861</td>\n",
       "                        <td id=\"T_b02a11ae_d80c_11ea_aecd_9cb6d021cf40row1_col9\" class=\"data row1 col9\" >-0.044672</td>\n",
       "            </tr>\n",
       "            <tr>\n",
       "                        <th id=\"T_b02a11ae_d80c_11ea_aecd_9cb6d021cf40level0_row2\" class=\"row_heading level0 row2\" >campaign</th>\n",
       "                        <td id=\"T_b02a11ae_d80c_11ea_aecd_9cb6d021cf40row2_col0\" class=\"data row2 col0\" >0.004622</td>\n",
       "                        <td id=\"T_b02a11ae_d80c_11ea_aecd_9cb6d021cf40row2_col1\" class=\"data row2 col1\" >-0.071765</td>\n",
       "                        <td id=\"T_b02a11ae_d80c_11ea_aecd_9cb6d021cf40row2_col2\" class=\"data row2 col2\" >1.000000</td>\n",
       "                        <td id=\"T_b02a11ae_d80c_11ea_aecd_9cb6d021cf40row2_col3\" class=\"data row2 col3\" >0.052606</td>\n",
       "                        <td id=\"T_b02a11ae_d80c_11ea_aecd_9cb6d021cf40row2_col4\" class=\"data row2 col4\" >-0.079182</td>\n",
       "                        <td id=\"T_b02a11ae_d80c_11ea_aecd_9cb6d021cf40row2_col5\" class=\"data row2 col5\" >0.150786</td>\n",
       "                        <td id=\"T_b02a11ae_d80c_11ea_aecd_9cb6d021cf40row2_col6\" class=\"data row2 col6\" >0.127826</td>\n",
       "                        <td id=\"T_b02a11ae_d80c_11ea_aecd_9cb6d021cf40row2_col7\" class=\"data row2 col7\" >-0.013657</td>\n",
       "                        <td id=\"T_b02a11ae_d80c_11ea_aecd_9cb6d021cf40row2_col8\" class=\"data row2 col8\" >0.135169</td>\n",
       "                        <td id=\"T_b02a11ae_d80c_11ea_aecd_9cb6d021cf40row2_col9\" class=\"data row2 col9\" >0.144129</td>\n",
       "            </tr>\n",
       "            <tr>\n",
       "                        <th id=\"T_b02a11ae_d80c_11ea_aecd_9cb6d021cf40level0_row3\" class=\"row_heading level0 row3\" >pdays</th>\n",
       "                        <td id=\"T_b02a11ae_d80c_11ea_aecd_9cb6d021cf40row3_col0\" class=\"data row3 col0\" >-0.034381</td>\n",
       "                        <td id=\"T_b02a11ae_d80c_11ea_aecd_9cb6d021cf40row3_col1\" class=\"data row3 col1\" >-0.047556</td>\n",
       "                        <td id=\"T_b02a11ae_d80c_11ea_aecd_9cb6d021cf40row3_col2\" class=\"data row3 col2\" >0.052606</td>\n",
       "                        <td id=\"T_b02a11ae_d80c_11ea_aecd_9cb6d021cf40row3_col3\" class=\"data row3 col3\" >1.000000</td>\n",
       "                        <td id=\"T_b02a11ae_d80c_11ea_aecd_9cb6d021cf40row3_col4\" class=\"data row3 col4\" >-0.587508</td>\n",
       "                        <td id=\"T_b02a11ae_d80c_11ea_aecd_9cb6d021cf40row3_col5\" class=\"data row3 col5\" >0.271063</td>\n",
       "                        <td id=\"T_b02a11ae_d80c_11ea_aecd_9cb6d021cf40row3_col6\" class=\"data row3 col6\" >0.078920</td>\n",
       "                        <td id=\"T_b02a11ae_d80c_11ea_aecd_9cb6d021cf40row3_col7\" class=\"data row3 col7\" >-0.091374</td>\n",
       "                        <td id=\"T_b02a11ae_d80c_11ea_aecd_9cb6d021cf40row3_col8\" class=\"data row3 col8\" >0.296946</td>\n",
       "                        <td id=\"T_b02a11ae_d80c_11ea_aecd_9cb6d021cf40row3_col9\" class=\"data row3 col9\" >0.372659</td>\n",
       "            </tr>\n",
       "            <tr>\n",
       "                        <th id=\"T_b02a11ae_d80c_11ea_aecd_9cb6d021cf40level0_row4\" class=\"row_heading level0 row4\" >previous</th>\n",
       "                        <td id=\"T_b02a11ae_d80c_11ea_aecd_9cb6d021cf40row4_col0\" class=\"data row4 col0\" >0.024379</td>\n",
       "                        <td id=\"T_b02a11ae_d80c_11ea_aecd_9cb6d021cf40row4_col1\" class=\"data row4 col1\" >0.020600</td>\n",
       "                        <td id=\"T_b02a11ae_d80c_11ea_aecd_9cb6d021cf40row4_col2\" class=\"data row4 col2\" >-0.079182</td>\n",
       "                        <td id=\"T_b02a11ae_d80c_11ea_aecd_9cb6d021cf40row4_col3\" class=\"data row4 col3\" >-0.587508</td>\n",
       "                        <td id=\"T_b02a11ae_d80c_11ea_aecd_9cb6d021cf40row4_col4\" class=\"data row4 col4\" >1.000000</td>\n",
       "                        <td id=\"T_b02a11ae_d80c_11ea_aecd_9cb6d021cf40row4_col5\" class=\"data row4 col5\" >-0.420587</td>\n",
       "                        <td id=\"T_b02a11ae_d80c_11ea_aecd_9cb6d021cf40row4_col6\" class=\"data row4 col6\" >-0.203197</td>\n",
       "                        <td id=\"T_b02a11ae_d80c_11ea_aecd_9cb6d021cf40row4_col7\" class=\"data row4 col7\" >-0.050929</td>\n",
       "                        <td id=\"T_b02a11ae_d80c_11ea_aecd_9cb6d021cf40row4_col8\" class=\"data row4 col8\" >-0.454571</td>\n",
       "                        <td id=\"T_b02a11ae_d80c_11ea_aecd_9cb6d021cf40row4_col9\" class=\"data row4 col9\" >-0.501411</td>\n",
       "            </tr>\n",
       "            <tr>\n",
       "                        <th id=\"T_b02a11ae_d80c_11ea_aecd_9cb6d021cf40level0_row5\" class=\"row_heading level0 row5\" >emp.var.rate</th>\n",
       "                        <td id=\"T_b02a11ae_d80c_11ea_aecd_9cb6d021cf40row5_col0\" class=\"data row5 col0\" >-0.000242</td>\n",
       "                        <td id=\"T_b02a11ae_d80c_11ea_aecd_9cb6d021cf40row5_col1\" class=\"data row5 col1\" >-0.027941</td>\n",
       "                        <td id=\"T_b02a11ae_d80c_11ea_aecd_9cb6d021cf40row5_col2\" class=\"data row5 col2\" >0.150786</td>\n",
       "                        <td id=\"T_b02a11ae_d80c_11ea_aecd_9cb6d021cf40row5_col3\" class=\"data row5 col3\" >0.271063</td>\n",
       "                        <td id=\"T_b02a11ae_d80c_11ea_aecd_9cb6d021cf40row5_col4\" class=\"data row5 col4\" >-0.420587</td>\n",
       "                        <td id=\"T_b02a11ae_d80c_11ea_aecd_9cb6d021cf40row5_col5\" class=\"data row5 col5\" >1.000000</td>\n",
       "                        <td id=\"T_b02a11ae_d80c_11ea_aecd_9cb6d021cf40row5_col6\" class=\"data row5 col6\" >0.775293</td>\n",
       "                        <td id=\"T_b02a11ae_d80c_11ea_aecd_9cb6d021cf40row5_col7\" class=\"data row5 col7\" >0.196257</td>\n",
       "                        <td id=\"T_b02a11ae_d80c_11ea_aecd_9cb6d021cf40row5_col8\" class=\"data row5 col8\" >0.972244</td>\n",
       "                        <td id=\"T_b02a11ae_d80c_11ea_aecd_9cb6d021cf40row5_col9\" class=\"data row5 col9\" >0.906949</td>\n",
       "            </tr>\n",
       "            <tr>\n",
       "                        <th id=\"T_b02a11ae_d80c_11ea_aecd_9cb6d021cf40level0_row6\" class=\"row_heading level0 row6\" >cons.price.idx</th>\n",
       "                        <td id=\"T_b02a11ae_d80c_11ea_aecd_9cb6d021cf40row6_col0\" class=\"data row6 col0\" >0.001009</td>\n",
       "                        <td id=\"T_b02a11ae_d80c_11ea_aecd_9cb6d021cf40row6_col1\" class=\"data row6 col1\" >0.005303</td>\n",
       "                        <td id=\"T_b02a11ae_d80c_11ea_aecd_9cb6d021cf40row6_col2\" class=\"data row6 col2\" >0.127826</td>\n",
       "                        <td id=\"T_b02a11ae_d80c_11ea_aecd_9cb6d021cf40row6_col3\" class=\"data row6 col3\" >0.078920</td>\n",
       "                        <td id=\"T_b02a11ae_d80c_11ea_aecd_9cb6d021cf40row6_col4\" class=\"data row6 col4\" >-0.203197</td>\n",
       "                        <td id=\"T_b02a11ae_d80c_11ea_aecd_9cb6d021cf40row6_col5\" class=\"data row6 col5\" >0.775293</td>\n",
       "                        <td id=\"T_b02a11ae_d80c_11ea_aecd_9cb6d021cf40row6_col6\" class=\"data row6 col6\" >1.000000</td>\n",
       "                        <td id=\"T_b02a11ae_d80c_11ea_aecd_9cb6d021cf40row6_col7\" class=\"data row6 col7\" >0.059170</td>\n",
       "                        <td id=\"T_b02a11ae_d80c_11ea_aecd_9cb6d021cf40row6_col8\" class=\"data row6 col8\" >0.688180</td>\n",
       "                        <td id=\"T_b02a11ae_d80c_11ea_aecd_9cb6d021cf40row6_col9\" class=\"data row6 col9\" >0.521945</td>\n",
       "            </tr>\n",
       "            <tr>\n",
       "                        <th id=\"T_b02a11ae_d80c_11ea_aecd_9cb6d021cf40level0_row7\" class=\"row_heading level0 row7\" >cons.conf.idx</th>\n",
       "                        <td id=\"T_b02a11ae_d80c_11ea_aecd_9cb6d021cf40row7_col0\" class=\"data row7 col0\" >0.129075</td>\n",
       "                        <td id=\"T_b02a11ae_d80c_11ea_aecd_9cb6d021cf40row7_col1\" class=\"data row7 col1\" >-0.008126</td>\n",
       "                        <td id=\"T_b02a11ae_d80c_11ea_aecd_9cb6d021cf40row7_col2\" class=\"data row7 col2\" >-0.013657</td>\n",
       "                        <td id=\"T_b02a11ae_d80c_11ea_aecd_9cb6d021cf40row7_col3\" class=\"data row7 col3\" >-0.091374</td>\n",
       "                        <td id=\"T_b02a11ae_d80c_11ea_aecd_9cb6d021cf40row7_col4\" class=\"data row7 col4\" >-0.050929</td>\n",
       "                        <td id=\"T_b02a11ae_d80c_11ea_aecd_9cb6d021cf40row7_col5\" class=\"data row7 col5\" >0.196257</td>\n",
       "                        <td id=\"T_b02a11ae_d80c_11ea_aecd_9cb6d021cf40row7_col6\" class=\"data row7 col6\" >0.059170</td>\n",
       "                        <td id=\"T_b02a11ae_d80c_11ea_aecd_9cb6d021cf40row7_col7\" class=\"data row7 col7\" >1.000000</td>\n",
       "                        <td id=\"T_b02a11ae_d80c_11ea_aecd_9cb6d021cf40row7_col8\" class=\"data row7 col8\" >0.277864</td>\n",
       "                        <td id=\"T_b02a11ae_d80c_11ea_aecd_9cb6d021cf40row7_col9\" class=\"data row7 col9\" >0.100679</td>\n",
       "            </tr>\n",
       "            <tr>\n",
       "                        <th id=\"T_b02a11ae_d80c_11ea_aecd_9cb6d021cf40level0_row8\" class=\"row_heading level0 row8\" >euribor3m</th>\n",
       "                        <td id=\"T_b02a11ae_d80c_11ea_aecd_9cb6d021cf40row8_col0\" class=\"data row8 col0\" >0.010852</td>\n",
       "                        <td id=\"T_b02a11ae_d80c_11ea_aecd_9cb6d021cf40row8_col1\" class=\"data row8 col1\" >-0.032861</td>\n",
       "                        <td id=\"T_b02a11ae_d80c_11ea_aecd_9cb6d021cf40row8_col2\" class=\"data row8 col2\" >0.135169</td>\n",
       "                        <td id=\"T_b02a11ae_d80c_11ea_aecd_9cb6d021cf40row8_col3\" class=\"data row8 col3\" >0.296946</td>\n",
       "                        <td id=\"T_b02a11ae_d80c_11ea_aecd_9cb6d021cf40row8_col4\" class=\"data row8 col4\" >-0.454571</td>\n",
       "                        <td id=\"T_b02a11ae_d80c_11ea_aecd_9cb6d021cf40row8_col5\" class=\"data row8 col5\" >0.972244</td>\n",
       "                        <td id=\"T_b02a11ae_d80c_11ea_aecd_9cb6d021cf40row8_col6\" class=\"data row8 col6\" >0.688180</td>\n",
       "                        <td id=\"T_b02a11ae_d80c_11ea_aecd_9cb6d021cf40row8_col7\" class=\"data row8 col7\" >0.277864</td>\n",
       "                        <td id=\"T_b02a11ae_d80c_11ea_aecd_9cb6d021cf40row8_col8\" class=\"data row8 col8\" >1.000000</td>\n",
       "                        <td id=\"T_b02a11ae_d80c_11ea_aecd_9cb6d021cf40row8_col9\" class=\"data row8 col9\" >0.945146</td>\n",
       "            </tr>\n",
       "            <tr>\n",
       "                        <th id=\"T_b02a11ae_d80c_11ea_aecd_9cb6d021cf40level0_row9\" class=\"row_heading level0 row9\" >nr.employed</th>\n",
       "                        <td id=\"T_b02a11ae_d80c_11ea_aecd_9cb6d021cf40row9_col0\" class=\"data row9 col0\" >-0.017607</td>\n",
       "                        <td id=\"T_b02a11ae_d80c_11ea_aecd_9cb6d021cf40row9_col1\" class=\"data row9 col1\" >-0.044672</td>\n",
       "                        <td id=\"T_b02a11ae_d80c_11ea_aecd_9cb6d021cf40row9_col2\" class=\"data row9 col2\" >0.144129</td>\n",
       "                        <td id=\"T_b02a11ae_d80c_11ea_aecd_9cb6d021cf40row9_col3\" class=\"data row9 col3\" >0.372659</td>\n",
       "                        <td id=\"T_b02a11ae_d80c_11ea_aecd_9cb6d021cf40row9_col4\" class=\"data row9 col4\" >-0.501411</td>\n",
       "                        <td id=\"T_b02a11ae_d80c_11ea_aecd_9cb6d021cf40row9_col5\" class=\"data row9 col5\" >0.906949</td>\n",
       "                        <td id=\"T_b02a11ae_d80c_11ea_aecd_9cb6d021cf40row9_col6\" class=\"data row9 col6\" >0.521945</td>\n",
       "                        <td id=\"T_b02a11ae_d80c_11ea_aecd_9cb6d021cf40row9_col7\" class=\"data row9 col7\" >0.100679</td>\n",
       "                        <td id=\"T_b02a11ae_d80c_11ea_aecd_9cb6d021cf40row9_col8\" class=\"data row9 col8\" >0.945146</td>\n",
       "                        <td id=\"T_b02a11ae_d80c_11ea_aecd_9cb6d021cf40row9_col9\" class=\"data row9 col9\" >1.000000</td>\n",
       "            </tr>\n",
       "    </tbody></table>"
      ],
      "text/plain": [
       "<pandas.io.formats.style.Styler at 0x20b4ea0e240>"
      ]
     },
     "execution_count": 21,
     "metadata": {},
     "output_type": "execute_result"
    }
   ],
   "source": [
    "corr = df.corr()\n",
    "corr.style.background_gradient()\n"
   ]
  },
  {
   "cell_type": "markdown",
   "metadata": {},
   "source": [
    "**out come of the above analysis**\n",
    "\n",
    " 1. pdays has most of the value 999(na)\n",
    " 2. some of the features are highly skewd.\n",
    " 3. emp.var.rate, euribor3m and nr.employed are correlated features"
   ]
  },
  {
   "cell_type": "markdown",
   "metadata": {},
   "source": [
    "# understand relationship between target and features"
   ]
  },
  {
   "cell_type": "code",
   "execution_count": 22,
   "metadata": {
    "scrolled": false
   },
   "outputs": [
    {
     "data": {
      "image/png": "[encoded data removed]",
      "text/plain": [
       "<Figure size 720x504 with 1 Axes>"
      ]
     },
     "metadata": {
      "needs_background": "light"
     },
     "output_type": "display_data"
    },
    {
     "data": {
      "image/png": "[encoded data removed]",
      "text/plain": [
       "<Figure size 720x504 with 1 Axes>"
      ]
     },
     "metadata": {
      "needs_background": "light"
     },
     "output_type": "display_data"
    },
    {
     "data": {
      "image/png": "[encoded data removed]",
      "text/plain": [
       "<Figure size 720x504 with 1 Axes>"
      ]
     },
     "metadata": {
      "needs_background": "light"
     },
     "output_type": "display_data"
    },
    {
     "data": {
      "image/png": "[encoded data removed]",
      "text/plain": [
       "<Figure size 720x504 with 1 Axes>"
      ]
     },
     "metadata": {
      "needs_background": "light"
     },
     "output_type": "display_data"
    },
    {
     "data": {
      "image/png": "[encoded data removed]",
      "text/plain": [
       "<Figure size 720x504 with 1 Axes>"
      ]
     },
     "metadata": {
      "needs_background": "light"
     },
     "output_type": "display_data"
    },
    {
     "data": {
      "image/png": "[encoded data removed]",
      "text/plain": [
       "<Figure size 720x504 with 1 Axes>"
      ]
     },
     "metadata": {
      "needs_background": "light"
     },
     "output_type": "display_data"
    },
    {
     "data": {
      "image/png": "[encoded data removed]",
      "text/plain": [
       "<Figure size 720x504 with 1 Axes>"
      ]
     },
     "metadata": {
      "needs_background": "light"
     },
     "output_type": "display_data"
    },
    {
     "data": {
      "image/png": "[encoded data removed]",
      "text/plain": [
       "<Figure size 720x504 with 1 Axes>"
      ]
     },
     "metadata": {
      "needs_background": "light"
     },
     "output_type": "display_data"
    },
    {
     "data": {
      "image/png": "[encoded data removed]",
      "text/plain": [
       "<Figure size 720x504 with 1 Axes>"
      ]
     },
     "metadata": {
      "needs_background": "light"
     },
     "output_type": "display_data"
    },
    {
     "data": {
      "image/png": "[encoded data removed]",
      "text/plain": [
       "<Figure size 720x504 with 1 Axes>"
      ]
     },
     "metadata": {
      "needs_background": "light"
     },
     "output_type": "display_data"
    },
    {
     "data": {
      "image/png": "[encoded data removed]",
      "text/plain": [
       "<Figure size 720x504 with 1 Axes>"
      ]
     },
     "metadata": {
      "needs_background": "light"
     },
     "output_type": "display_data"
    },
    {
     "data": {
      "image/png": "[encoded data removed]",
      "text/plain": [
       "<Figure size 720x504 with 1 Axes>"
      ]
     },
     "metadata": {
      "needs_background": "light"
     },
     "output_type": "display_data"
    },
    {
     "data": {
      "image/png": "[encoded data removed]",
      "text/plain": [
       "<Figure size 720x504 with 1 Axes>"
      ]
     },
     "metadata": {
      "needs_background": "light"
     },
     "output_type": "display_data"
    }
   ],
   "source": [
    "def bar_plot(col):\n",
    "    plt.figure(figsize=(10, 7))\n",
    "    sns.countplot(x=df[col], data=df, hue=df['y'])\n",
    "\n",
    "cat_columns = cat_columns + ['previous', 'pdays', 'age']\n",
    "for col in cat_columns:\n",
    "    bar_plot(col)\n"
   ]
  },
  {
   "cell_type": "code",
   "execution_count": 23,
   "metadata": {
    "scrolled": false
   },
   "outputs": [
    {
     "data": {
      "image/png": "[encoded data removed]",
      "text/plain": [
       "<Figure size 720x504 with 1 Axes>"
      ]
     },
     "metadata": {
      "needs_background": "light"
     },
     "output_type": "display_data"
    },
    {
     "data": {
      "image/png": "[encoded data removed]",
      "text/plain": [
       "<Figure size 720x504 with 1 Axes>"
      ]
     },
     "metadata": {
      "needs_background": "light"
     },
     "output_type": "display_data"
    },
    {
     "data": {
      "image/png": "[encoded data removed]",
      "text/plain": [
       "<Figure size 720x504 with 1 Axes>"
      ]
     },
     "metadata": {
      "needs_background": "light"
     },
     "output_type": "display_data"
    },
    {
     "data": {
      "image/png": "[encoded data removed]",
      "text/plain": [
       "<Figure size 720x504 with 1 Axes>"
      ]
     },
     "metadata": {
      "needs_background": "light"
     },
     "output_type": "display_data"
    },
    {
     "data": {
      "image/png": "[encoded data removed]",
      "text/plain": [
       "<Figure size 720x504 with 1 Axes>"
      ]
     },
     "metadata": {
      "needs_background": "light"
     },
     "output_type": "display_data"
    },
    {
     "data": {
      "image/png": "[encoded data removed]",
      "text/plain": [
       "<Figure size 720x504 with 1 Axes>"
      ]
     },
     "metadata": {
      "needs_background": "light"
     },
     "output_type": "display_data"
    },
    {
     "data": {
      "image/png": "[encoded data removed]",
      "text/plain": [
       "<Figure size 720x504 with 1 Axes>"
      ]
     },
     "metadata": {
      "needs_background": "light"
     },
     "output_type": "display_data"
    },
    {
     "data": {
      "image/png": "[encoded data removed]",
      "text/plain": [
       "<Figure size 720x504 with 1 Axes>"
      ]
     },
     "metadata": {
      "needs_background": "light"
     },
     "output_type": "display_data"
    },
    {
     "data": {
      "image/png": "[encoded data removed]",
      "text/plain": [
       "<Figure size 720x504 with 1 Axes>"
      ]
     },
     "metadata": {
      "needs_background": "light"
     },
     "output_type": "display_data"
    },
    {
     "data": {
      "image/png": "[encoded data removed]",
      "text/plain": [
       "<Figure size 720x504 with 1 Axes>"
      ]
     },
     "metadata": {
      "needs_background": "light"
     },
     "output_type": "display_data"
    }
   ],
   "source": [
    "def box_plot(col):\n",
    "    plt.figure(figsize=(10,7))\n",
    "    sns.boxplot(x='y', y=col, data=df)\n",
    "    \n",
    "for col in num_columns:\n",
    "    box_plot(col)"
   ]
  },
  {
   "cell_type": "code",
   "execution_count": 24,
   "metadata": {},
   "outputs": [
    {
     "data": {
      "text/html": [
       "<div>\n",
       "<style scoped>\n",
       "    .dataframe tbody tr th:only-of-type {\n",
       "        vertical-align: middle;\n",
       "    }\n",
       "\n",
       "    .dataframe tbody tr th {\n",
       "        vertical-align: top;\n",
       "    }\n",
       "\n",
       "    .dataframe thead th {\n",
       "        text-align: right;\n",
       "    }\n",
       "</style>\n",
       "<table border=\"1\" class=\"dataframe\">\n",
       "  <thead>\n",
       "    <tr style=\"text-align: right;\">\n",
       "      <th></th>\n",
       "      <th></th>\n",
       "      <th>age</th>\n",
       "    </tr>\n",
       "    <tr>\n",
       "      <th>marital</th>\n",
       "      <th>y</th>\n",
       "      <th></th>\n",
       "    </tr>\n",
       "  </thead>\n",
       "  <tbody>\n",
       "    <tr>\n",
       "      <th rowspan=\"2\" valign=\"top\">divorced</th>\n",
       "      <th>no</th>\n",
       "      <td>4135</td>\n",
       "    </tr>\n",
       "    <tr>\n",
       "      <th>yes</th>\n",
       "      <td>476</td>\n",
       "    </tr>\n",
       "    <tr>\n",
       "      <th rowspan=\"2\" valign=\"top\">married</th>\n",
       "      <th>no</th>\n",
       "      <td>22390</td>\n",
       "    </tr>\n",
       "    <tr>\n",
       "      <th>yes</th>\n",
       "      <td>2531</td>\n",
       "    </tr>\n",
       "    <tr>\n",
       "      <th rowspan=\"2\" valign=\"top\">single</th>\n",
       "      <th>no</th>\n",
       "      <td>9944</td>\n",
       "    </tr>\n",
       "    <tr>\n",
       "      <th>yes</th>\n",
       "      <td>1620</td>\n",
       "    </tr>\n",
       "    <tr>\n",
       "      <th rowspan=\"2\" valign=\"top\">unknown</th>\n",
       "      <th>no</th>\n",
       "      <td>68</td>\n",
       "    </tr>\n",
       "    <tr>\n",
       "      <th>yes</th>\n",
       "      <td>12</td>\n",
       "    </tr>\n",
       "  </tbody>\n",
       "</table>\n",
       "</div>"
      ],
      "text/plain": [
       "                age\n",
       "marital  y         \n",
       "divorced no    4135\n",
       "         yes    476\n",
       "married  no   22390\n",
       "         yes   2531\n",
       "single   no    9944\n",
       "         yes   1620\n",
       "unknown  no      68\n",
       "         yes     12"
      ]
     },
     "execution_count": 24,
     "metadata": {},
     "output_type": "execute_result"
    }
   ],
   "source": [
    "df[['marital', 'y', 'age']].groupby(['marital', 'y']).count()\n"
   ]
  },
  {
   "cell_type": "code",
   "execution_count": 25,
   "metadata": {},
   "outputs": [
    {
     "data": {
      "image/png": "[encoded data removed]",
      "text/plain": [
       "<Figure size 432x288 with 1 Axes>"
      ]
     },
     "metadata": {
      "needs_background": "light"
     },
     "output_type": "display_data"
    }
   ],
   "source": [
    "sns.countplot(x=df['day_of_week'], data=df, hue=df['y'])\n",
    "plt.savefig(\"day_of_week.jpg\", bbox_inches='tight', dpi=150)"
   ]
  },
  {
   "cell_type": "code",
   "execution_count": 26,
   "metadata": {},
   "outputs": [],
   "source": [
    "dist_yes = df[df['y']=='yes']['nr.employed']\n",
    "dist_no = df[df['y']=='no']['nr.employed']"
   ]
  },
  {
   "cell_type": "code",
   "execution_count": 27,
   "metadata": {},
   "outputs": [
    {
     "data": {
      "image/png": "[encoded data removed]",
      "text/plain": [
       "<Figure size 792x576 with 1 Axes>"
      ]
     },
     "metadata": {
      "needs_background": "light"
     },
     "output_type": "display_data"
    }
   ],
   "source": [
    "ax = plt.figure(figsize=(11,8)).gca()\n",
    "bins = len(df['nr.employed'].unique())\n",
    "sns.distplot(dist_no, kde=False, bins=bins, ax=ax, label=\"No\")\n",
    "sns.distplot(dist_yes, kde=False, bins=bins, ax=ax, label=\"Yes\")\n",
    "plt.title('Distribution of nr.employed')\n",
    "plt.legend()\n",
    "plt.ylabel(\"counts\")\n",
    "plt.savefig(\"nremployed.jpg\", bbox_inches='tight', dpi=150)\n",
    "plt.show()"
   ]
  },
  {
   "cell_type": "code",
   "execution_count": null,
   "metadata": {},
   "outputs": [],
   "source": []
  }
 ],
 "metadata": {
  "kernelspec": {
   "display_name": "Python 3",
   "language": "python",
   "name": "python3"
  },
  "language_info": {
   "codemirror_mode": {
    "name": "ipython",
    "version": 3
   },
   "file_extension": ".py",
   "mimetype": "text/x-python",
   "name": "python",
   "nbconvert_exporter": "python",
   "pygments_lexer": "ipython3",
   "version": "3.7.0"
  }
 },
 "nbformat": 4,
 "nbformat_minor": 1
}
